{
  "cells": [
    {
      "cell_type": "code",
      "execution_count": null,
      "metadata": {
        "id": "R1jwfa6KPQli"
      },
      "outputs": [],
      "source": [
        "# !pip install datasets opencv-contrib-python opencv-python ipywidgets scipy"
      ]
    },
    {
      "cell_type": "markdown",
      "metadata": {
        "id": "HftEVyxCPQli"
      },
      "source": [
        "## Implementing Bag of Visual Words"
      ]
    },
    {
      "cell_type": "markdown",
      "metadata": {
        "id": "7ovhm2HXPQli"
      },
      "source": [
        "### Training Dataset Load and Cleaning"
      ]
    },
    {
      "cell_type": "markdown",
      "metadata": {
        "id": "lTelfNSoPQlk"
      },
      "source": [
        "First, we want to import a dataset of images to train the model.\n",
        "\n",
        "Feel free to use any images you like, but, if you’d like to follow along with the same images, you can download them using HuggingFace Datasets."
      ]
    },
    {
      "cell_type": "code",
      "execution_count": null,
      "metadata": {
        "colab": {
          "base_uri": "https://localhost:8080/",
          "height": 344,
          "referenced_widgets": [
            "4409072ef91e4fa0a884b64635fa6339",
            "97855c44480848e0845741f7a065b0be",
            "eb72b37668094ca9b68311e8a035649c",
            "46efa0c71926461490246b039335ab62",
            "926aeec34faa44ce87a30b6fa8d29f81",
            "ad7f6e5244f04638956bd14f6465d82f",
            "aded95fb85ca4a989bd1eff82aafed88",
            "afcca047970c44f1bb3ff3294870f251",
            "85d8f063afe349e0aded085fbc3608ac",
            "be2cca356c954456af7bb1dc74aad469",
            "255c9fef50dc4e3889c68a8ca734b7b0",
            "46f9708450b8441795b5c10915324f00",
            "2e8b703e2600499690399d622331ef4a",
            "ccbbb83a10014f24bf7b3b82fdeb1b80",
            "da60e49a67b14ebeb5c577cf35ace928",
            "66e87bbc3566460795d2f4b4672a7045",
            "b88bf73c1df54f5c97e1fcff9ebbf83d",
            "815facc28fbb4cd68fe1dd8774a0aa4d",
            "40a5b567d32f4c818b436d28e15f42ab",
            "6a6f6141cbf847e4b7c5ab8613979049",
            "efbb74a1ed654e78b63dc15d9d37c65c",
            "d53cb7601dac410ba7510bdc08a9d8c9",
            "ee8137edeb2a43f2835c7414400f22c9",
            "36d186c5735947f7a1f7b441eaf83013",
            "23f914472afc4524b65f564f82252953",
            "1ee7e55328b944e4954424c94f2724b9",
            "3c7ab31e455c4bbe80413377f3749e2f",
            "53e1bdaa6b864447a260ff5d2119749e",
            "00c9bea4d00d47ceb2e134b2cf773fe3",
            "6b71e98bf277464ba303af84a4dccda4",
            "5415f32f0f654e129d6a5a90577bfbb5",
            "ad1a9e9cd5f74a56bbd5c775abd49b28",
            "451975acd2c9415891387a584fb0e7f2",
            "3fe3d21cc6d34965ad590ac6a8c28162",
            "ba6813fb6acb4daa9c478d1e58edbbc4",
            "6b6697754c044e4b91d667ef21806eab",
            "eb1f003e6f7e47cabad5d874b2b60eff",
            "bd9c98f80fdb4e11907f0ad0c1d0669b",
            "a900f77748c843469a8f985d77fcb1c3",
            "0cb3f55d93e74633b89c23b6f936ca76",
            "4ba1c8b8b69c40ca8be757568c48d991",
            "f208b555a0484a3f93faf065da5c3e41",
            "89915ef2143d448e922cc59a81e4c1e9",
            "e8be163b36ff41939364749f3f339b14"
          ]
        },
        "id": "lHziNLo7PQlk",
        "outputId": "026b8c00-ae4c-47ce-d1a3-c57a83daac87"
      },
      "outputs": [],
      "source": [
        "from datasets import load_dataset\n",
        "\n",
        "# download the dataset\n",
        "data = load_dataset(\n",
        "    'frgfm/imagenette',\n",
        "    '160px',\n",
        "    'verification_mode=no_checks', # set to 'verification_mode=all_checks' if seeing splits Error\n",
        "    split='train'\n",
        ")\n",
        "data"
      ]
    },
    {
      "cell_type": "markdown",
      "metadata": {
        "id": "24EzzdCCPQll"
      },
      "source": [
        "The chosen dataset is composed of $9469$ images, representing dogs, radios, fishes, cities, and so on. We can visualise some of them below."
      ]
    },
    {
      "cell_type": "code",
      "execution_count": null,
      "metadata": {
        "colab": {
          "base_uri": "https://localhost:8080/",
          "height": 177
        },
        "id": "UVZi4y_iPQll",
        "outputId": "22bee88f-b387-458b-ffb0-5e7af5b4eedb"
      },
      "outputs": [],
      "source": [
        "# important to use imagenet[0]['image'] rather than imagenet['image'][0]\n",
        "# as the latter loads the entire image ctrtvgvrtttttolumn then extracts index 0 (it's slow)\n",
        "data[3900]['image']"
      ]
    },
    {
      "cell_type": "code",
      "execution_count": null,
      "metadata": {
        "colab": {
          "base_uri": "https://localhost:8080/",
          "height": 177
        },
        "id": "gmHSDeuSPQll",
        "outputId": "668837fe-0eeb-464a-d7a2-8f4efc75ec1c"
      },
      "outputs": [],
      "source": [
        "data[5020]['image']"
      ]
    },
    {
      "cell_type": "markdown",
      "metadata": {
        "id": "xXWlvpmvPQll"
      },
      "source": [
        "We can now transform these images from PIL objects to numpy arrays."
      ]
    },
    {
      "cell_type": "code",
      "execution_count": null,
      "metadata": {
        "colab": {
          "base_uri": "https://localhost:8080/",
          "height": 49,
          "referenced_widgets": [
            "ef8bb645ae574485a83a8a84cdc61fe0",
            "3189626134844a9cbf7272600e1e7678",
            "04abc2beb6244a74a521c002dd7e6a86",
            "261fcc6c446b4eb9ba941ae3c5e1cbe8",
            "b924ae08f3d14f9f9f8602d8c0850b1f",
            "b2b66c71662b492f874e5195a054a315",
            "131e63b7608f419a8e92827fc2362421",
            "47d88caadb6144fb81015425a9d0d742",
            "ed0c37b311194f8aab1c191f819b5bc8",
            "cda2ed073232458f8fb31abb7587ad2f",
            "8c1dc6e701aa4012b4dcf45cf7a6e458"
          ]
        },
        "id": "rE9E0U-OPQll",
        "outputId": "dff7520b-795c-4b12-9370-06d6c1d77dba"
      },
      "outputs": [],
      "source": [
        "import numpy as np\n",
        "from tqdm.notebook import tqdm\n",
        "\n",
        "# generate an array from the original dataset\n",
        "images_training = []\n",
        "\n",
        "for n in tqdm(range(0,len(data))):\n",
        "    images_training.append(np.array(data[n]['image']))"
      ]
    },
    {
      "cell_type": "markdown",
      "metadata": {
        "id": "yMGJ4jqBPQlm"
      },
      "source": [
        "To simplify the model and speed-up the process, we can transform the images from *RGB* to grayscale. This will reduce the image dimension from $3$ to $2$.\n",
        "\n",
        "To do that, we can use ``cv2``. Note that the dataset might include a mix of RGB and grayscale images. In that case, we would need to trasform only those in RGB, while keeping the grayscale ones as they are. The below code addresses this by looking at the shape's length: if the shape equals $2$, then the image is in grayscale, if the shape is $3$, then the image is RGB."
      ]
    },
    {
      "cell_type": "code",
      "execution_count": null,
      "metadata": {
        "colab": {
          "base_uri": "https://localhost:8080/",
          "height": 49,
          "referenced_widgets": [
            "cc13c9418c0c422fb18182d861dd10ed",
            "2df670e8aa38417d8620b44fecc86e31",
            "7fbf8ed432ab40539c4f78276b14105f",
            "f65be074ec8d456188417541c97b6414",
            "d44c80f248b944b2840cc1d1aa3fc4d0",
            "8a0c5c3c9aa6442e96ee095b40ac6ea9",
            "14b86e62701d41b888cea79b8c0fc591",
            "c49e7c1998dd4c39ab724e363e57182d",
            "a20d88b40da84a29b7c967732200ba7e",
            "b325b15b38874911b6689e522bff5946",
            "90725cfd4f7d474f9c1f332a4ec5a543"
          ]
        },
        "id": "esaWQCU9PQlm",
        "outputId": "c6b5f581-ab5f-4341-fd42-75cc3c0658b0"
      },
      "outputs": [],
      "source": [
        "import cv2\n",
        "\n",
        "# convert images to grayscale\n",
        "bw_images = []\n",
        "for img in tqdm(images_training):\n",
        "    # if RGB, transform into grayscale\n",
        "    if len(img.shape) == 3:\n",
        "        ### START YOUR CODE HERE\n",
        "        bgr2bw = None\n",
        "        bw_images.append(bgr2bw)\n",
        "        ### END YOUR CODE HERE\n",
        "    else:\n",
        "        # if grayscale, do not transform\n",
        "        bw_images.append(img)"
      ]
    },
    {
      "cell_type": "markdown",
      "metadata": {
        "id": "nX2h70A8PQlm"
      },
      "source": [
        "Let's take a look at a transformed image."
      ]
    },
    {
      "cell_type": "code",
      "execution_count": null,
      "metadata": {
        "colab": {
          "base_uri": "https://localhost:8080/",
          "height": 434
        },
        "id": "n4mI9TWNPQlm",
        "outputId": "037de6cf-a3d7-4675-8658-155843d1cd52"
      },
      "outputs": [],
      "source": [
        "import matplotlib.pyplot as plt\n",
        "\n",
        "plt.imshow(bw_images[1], cmap='gray')\n",
        "plt.show()"
      ]
    },
    {
      "cell_type": "markdown",
      "metadata": {
        "id": "8kUTMeeqPQln"
      },
      "source": [
        "We have now a dataset of images that we can use to train our model. Let's see how to build it."
      ]
    },
    {
      "cell_type": "markdown",
      "metadata": {
        "id": "vSAW6cmqPQln"
      },
      "source": [
        "### Visual features Extraction"
      ]
    },
    {
      "cell_type": "markdown",
      "metadata": {
        "id": "0alGHqNVPQln"
      },
      "source": [
        "The first step is to extract the image visual features (keypoints and descriptors). As previously mentioned, we will use SIFT, a feature detector."
      ]
    },
    {
      "cell_type": "code",
      "execution_count": null,
      "metadata": {
        "colab": {
          "base_uri": "https://localhost:8080/",
          "height": 49,
          "referenced_widgets": [
            "a684da8871324472934ee47281b31e84",
            "f047e257fba04e01b794f09b647bd0ff",
            "caeac1996d47437fb9239df5fcd10df1",
            "1a83a7d8cd0d4ca88fc9c9258925b33c",
            "cc974e384805414e9556c6fc5841b8e1",
            "782415e5ca664f879d9ad31a14eef364",
            "53e5a0cd427245ed881a541d47534897",
            "4d8604b6be194adfa980e3be80c31ee3",
            "7e9ed109427149c8a33b84e3b36f2edf",
            "df46faada35541d391eb3d55f4a88423",
            "882aa1b9f5604b8bb14ac32110afa983"
          ]
        },
        "id": "6yoF8wrsPQln",
        "outputId": "1c468df3-d0e4-401a-e228-d7e6b0132e01"
      },
      "outputs": [],
      "source": [
        "### START YOUR CODE HERE\n",
        "# defining feature extractor that we want to use (SIFT)\n",
        "extractor = None\n",
        "\n",
        "# initialize lists where we will store *all* keypoints and descriptors\n",
        "keypoints = []\n",
        "descriptors = []\n",
        "\n",
        "for img in tqdm(bw_images):\n",
        "    # extract keypoints and descriptors for each image\n",
        "    img_keypoints, img_descriptors = None\n",
        "    keypoints.append(img_keypoints)\n",
        "    descriptors.append(img_descriptors)\n",
        "### END YOUR CODE HERE"
      ]
    },
    {
      "cell_type": "markdown",
      "metadata": {
        "id": "NyyUw8KgPQln"
      },
      "source": [
        "Some images might return `None` when attempting to extract keypoints using SIFT. This is (usually) because the SIFT algorithm cannot detect any keypoints (common when an image is very flat without obvious edges). In that case, we remove those images from our data."
      ]
    },
    {
      "cell_type": "code",
      "execution_count": null,
      "metadata": {
        "colab": {
          "base_uri": "https://localhost:8080/"
        },
        "id": "LgXkciprPQln",
        "outputId": "14893d75-ccb4-4373-cd04-766bd7166db9"
      },
      "outputs": [],
      "source": [
        "print(f\"len before: {len(descriptors)}\")\n",
        "# initialize list to store idx values of records to drop\n",
        "to_drop = []\n",
        "for i, img_descriptors in enumerate(descriptors):\n",
        "    # if there are no descriptors, add record idx to drop list\n",
        "    if img_descriptors is None:\n",
        "        to_drop.append(i)\n",
        "\n",
        "print(f\"indexes: {to_drop}\")\n",
        "# delete from list in reverse order\n",
        "for i in sorted(to_drop, reverse=True):\n",
        "    del descriptors[i], keypoints[i]\n",
        "\n",
        "print(f\"len after: {len(descriptors)}\")"
      ]
    },
    {
      "cell_type": "markdown",
      "metadata": {
        "id": "iomIb_qRPQlo"
      },
      "source": [
        "For this sample, we fortunately don't have this issue - as we can see the before/after length has not changed."
      ]
    },
    {
      "cell_type": "markdown",
      "metadata": {
        "id": "weki01kCPQlo"
      },
      "source": [
        "Now that we have extracted the features, we can visualize them on some images."
      ]
    },
    {
      "cell_type": "code",
      "execution_count": null,
      "metadata": {
        "colab": {
          "base_uri": "https://localhost:8080/",
          "height": 1000
        },
        "id": "50rYxGw6PQlo",
        "outputId": "bfee6b78-fc69-41dd-c8a8-505434e55338"
      },
      "outputs": [],
      "source": [
        "output_image = []\n",
        "for x in range(3):\n",
        "    output_image.append(cv2.drawKeypoints(bw_images[x], keypoints[x], 0, (255, 0, 0),\n",
        "                                 flags=cv2.DRAW_MATCHES_FLAGS_DRAW_RICH_KEYPOINTS))\n",
        "    plt.imshow(output_image[x], cmap='gray')\n",
        "    plt.show()"
      ]
    },
    {
      "cell_type": "markdown",
      "metadata": {
        "id": "fx5iasFhPQlo"
      },
      "source": [
        "The centre of each circle is the keypoint location, the line from the centre to the circle is the orientation of the keypoint, and the size of the circle is the scale at which this feature was detected."
      ]
    },
    {
      "cell_type": "markdown",
      "metadata": {
        "id": "pMo3j4GFPQlo"
      },
      "source": [
        "We are now ready to build the codebook!"
      ]
    },
    {
      "cell_type": "markdown",
      "metadata": {
        "id": "deEFXas8PQlo"
      },
      "source": [
        "### Building the Codebook"
      ]
    },
    {
      "cell_type": "markdown",
      "metadata": {
        "id": "pa5tEvs2PQlp"
      },
      "source": [
        "To build the codebook, we will randomly sample $1000$ of the image descriptors. To create the sample we use Numpy to generate $1000$ random integer numbers from $0$ to $9469$ (the length of the dataset). We set `np.random.seed(0)` to generate the same sample for reproducability."
      ]
    },
    {
      "cell_type": "code",
      "execution_count": null,
      "metadata": {
        "colab": {
          "base_uri": "https://localhost:8080/"
        },
        "id": "ac_xfXzPPQlp",
        "outputId": "a95a3456-88a6-4aa9-9921-f36083dd5799"
      },
      "outputs": [],
      "source": [
        "import numpy as np\n",
        "\n",
        "# select the same numbers in each run\n",
        "np.random.seed(0)\n",
        "# select 1000 random image index values\n",
        "sample_idx = np.random.randint(0, len(data)+1, 1000).tolist()\n",
        "len(sample_idx)"
      ]
    },
    {
      "cell_type": "markdown",
      "metadata": {
        "id": "_AVcfkdMPQlp"
      },
      "source": [
        "First, we want to stack the generated descriptors into a numpy array. This will be a single array of *all* the chosen descriptors across *all* the corresponding images. To be more precise, we are going to extract the corresponding keypoints, even though we are not going to use them going ahead."
      ]
    },
    {
      "cell_type": "code",
      "execution_count": null,
      "metadata": {
        "colab": {
          "base_uri": "https://localhost:8080/",
          "height": 49,
          "referenced_widgets": [
            "9d46548058c248fabd526f6c92cf14e4",
            "c5c63e310f0f4f84867ada97dfd80456",
            "ae2aeb8e4e4b4cf084b7e2de6552a0b8",
            "8409a58de80c47498a0ef6bf04885d42",
            "c2d8d583e16b4f8aaf9820f359c584ef",
            "2e8d14cb4d414545985bfb64d26a9eba",
            "7cdf7178668e4a3b8d6a749ef940c008",
            "95708c0fbfd84c1eb5d781198754d4d7",
            "3183565db05f46379b5892cc552f1eef",
            "67d8dfa24e1442b49655c03a5e46ef56",
            "88220d7364ae4382b7f562a1add22173"
          ]
        },
        "id": "T67__ANLPQlp",
        "outputId": "e1bb7659-48cf-4438-a7ed-246e997e0c71"
      },
      "outputs": [],
      "source": [
        "# extract the sample from descriptors\n",
        "# (we don't need keypoints)\n",
        "descriptors_sample = []\n",
        "\n",
        "for n in tqdm(sample_idx):\n",
        "    descriptors_sample.append(np.array(descriptors[n]))"
      ]
    },
    {
      "cell_type": "code",
      "execution_count": null,
      "metadata": {
        "colab": {
          "base_uri": "https://localhost:8080/",
          "height": 49,
          "referenced_widgets": [
            "b9439fa82e7c4735b6c09c743e3562ea",
            "c5306968c63f4f8eb68e3337399564c2",
            "ecb6a7347ba340d2a4f12a03139b4ab3",
            "6594edb376a743d5981b34f509a18405",
            "92cc308b743f4ab1a9191586e56d8406",
            "b4fc14ab790c41dd8ebacb52e1de8909",
            "eec9af163e334354a1223219d26060b6",
            "83753d0c5d26408aac22bc373cd5b600",
            "459a80e2dcc74fc587808a1eb711ecee",
            "c3f98a12d59348bcbd634e6f9cbed39e",
            "0e9f4dc81aa14e29b30c85af753b8eff"
          ]
        },
        "id": "7KqhxjshPQlp",
        "outputId": "fe153d35-6f75-4ec1-c6f1-da543331c6da"
      },
      "outputs": [],
      "source": [
        "all_descriptors = []\n",
        "# extract image descriptor lists\n",
        "for img_descriptors in tqdm(descriptors_sample):\n",
        "    # extract specific descriptors within the image\n",
        "    for descriptor in img_descriptors:\n",
        "        all_descriptors.append(descriptor)\n",
        "\n",
        "### START YOUR CODE HERE        \n",
        "# convert to single numpy array\n",
        "all_descriptors = None\n",
        "### END YOUR CODE HERE"
      ]
    },
    {
      "cell_type": "code",
      "execution_count": null,
      "metadata": {
        "colab": {
          "base_uri": "https://localhost:8080/"
        },
        "id": "QgbNlgcUPQlq",
        "outputId": "ba0698f4-7071-4a37-83f1-c4ebfe4451ff"
      },
      "outputs": [],
      "source": [
        "# check the shape\n",
        "all_descriptors.shape"
      ]
    },
    {
      "cell_type": "markdown",
      "metadata": {
        "id": "r7XP3BrePQlq"
      },
      "source": [
        "We now have *all* descriptors (each descriptor being a 128-dimensional vector) across *all* sampled images. There are around *1,130,000* of these in total."
      ]
    },
    {
      "cell_type": "code",
      "execution_count": null,
      "metadata": {
        "colab": {
          "base_uri": "https://localhost:8080/"
        },
        "id": "e2svzK0MPQlq",
        "outputId": "fc27d588-d8f2-4ed1-ed67-1a3a341996dd"
      },
      "outputs": [],
      "source": [
        "# we can count the number of descriptors contained in descriptors to confirm\n",
        "count = []\n",
        "for img_descriptors in descriptors_sample:\n",
        "    count.append(len(img_descriptors))\n",
        "# here we can see the number of descriptors for the first five images\n",
        "print(f\"first five: {count[:5]}\")\n",
        "# and if we sum them all, we should see the 39893 from before\n",
        "print(f\"count all: {sum(count)}\")"
      ]
    },
    {
      "cell_type": "markdown",
      "metadata": {
        "id": "E6lxxnSaPQlq"
      },
      "source": [
        "We now want to group similar visual features (descriptors) using *k-means*. After a few tests, we chose $k=200$ for our model.\n",
        "\n",
        "After k-means, all images will be reduced to *visual words* and we will use that to build our codebook.\n",
        "\n",
        "*It can be difficult to find the optimal size of our codebook - if too small, visual words could be not representative of all image regions, if too large, there could be too many visual words with little-no of them being shared between images (making comparisons very hard or impossible).*\n",
        "\n",
        "Once built, the codebook won't change anymore, i.e., will stay fixed!"
      ]
    },
    {
      "cell_type": "code",
      "execution_count": null,
      "metadata": {
        "id": "FGQtgK2aPQlq"
      },
      "outputs": [],
      "source": [
        "# perform k-means clustering to build the codebook\n",
        "from scipy.cluster.vq import kmeans\n",
        "\n",
        "### START YOUR CODE HERE\n",
        "k = 200\n",
        "iters = 1\n",
        "codebook, variance = None\n",
        "### END YOUR CODE HERE"
      ]
    },
    {
      "cell_type": "markdown",
      "metadata": {
        "id": "mIRIT5NtPQlq"
      },
      "source": [
        "### Saving Codebook"
      ]
    },
    {
      "cell_type": "markdown",
      "metadata": {
        "id": "pJr4gnxJPQlq"
      },
      "source": [
        "We save the codebook and key parameters like `k` into a file so that in the future we just load these when processing new images."
      ]
    },
    {
      "cell_type": "code",
      "execution_count": null,
      "metadata": {
        "colab": {
          "base_uri": "https://localhost:8080/"
        },
        "id": "CPQijpqjPQlr",
        "outputId": "8acab532-cc8e-4794-ac70-fc81ab1da30a"
      },
      "outputs": [],
      "source": [
        "import joblib\n",
        "\n",
        "# save number of clusters and codebook\n",
        "# Joblib dumps Python object into one file\n",
        "joblib.dump((k, codebook), \"bovw-codebook.pkl\", compress=3)"
      ]
    },
    {
      "cell_type": "markdown",
      "metadata": {
        "id": "iC2H3OmRPQlr"
      },
      "source": [
        "To *emulate* this approach, we can go ahead and load `k` and our `codebook` from file to use for the rest of the notebook - this is optional and not necessary, feel free to not run the next code cell."
      ]
    },
    {
      "cell_type": "code",
      "execution_count": null,
      "metadata": {
        "id": "ZiNBDqvNPQlr"
      },
      "outputs": [],
      "source": [
        "# load the visual features, number of clusters, and codebook\n",
        "k, codebook = joblib.load(\"bovw-codebook.pkl\")"
      ]
    },
    {
      "cell_type": "markdown",
      "metadata": {
        "id": "3WaKV2gWPQlr"
      },
      "source": [
        "### Building Sparse Vectors\n",
        "\n",
        "After building our `codebook` we can begin building the sparse vector representations of our images, this requires three steps, (1) vector quantization, (2) frequency count, and (3) tf-idf.\n",
        "\n",
        "#### 1. Vector quantization:\n",
        "\n",
        "Transforming the visual *feature* representations of our images into *visual words*."
      ]
    },
    {
      "cell_type": "code",
      "execution_count": null,
      "metadata": {
        "colab": {
          "base_uri": "https://localhost:8080/",
          "height": 49,
          "referenced_widgets": [
            "079d98694c484bb0ac788abe5c425b67",
            "9e2d114cb04741eda436711d5d54cbd3",
            "e7f788a0a2214ffd9cb2df833d825039",
            "0714ff619e58480981146787feb88e76",
            "be5a6f8480d04207b328fe1bb6f16995",
            "56773e6a02e04c19baee0fe82912a762",
            "467a2c2de8ec47d38c74dfedb5c54363",
            "4c8b4ef1c8544689aa89ad0ecac9159f",
            "ea2103fa695d4f0c880955e81ec8e4ff",
            "43db77a9400d412caed13b873dc92389",
            "04dc3d4c823a481aad38946bd6cc49b2"
          ]
        },
        "id": "iVhnW52wPQlr",
        "outputId": "0a1c03d5-6964-4c46-fe61-0ef5548a6c76"
      },
      "outputs": [],
      "source": [
        "# vector quantization\n",
        "from scipy.cluster.vq import vq\n",
        "\n",
        "visual_words = []\n",
        "for img_descriptors in tqdm(descriptors):\n",
        "    ### START YOUR CODE HERE\n",
        "    # for each image, map each descriptor to the nearest codebook entry\n",
        "    img_visual_words, distance = None\n",
        "    visual_words.append(img_visual_words)\n",
        "    ### END YOUR CODE HERE"
      ]
    },
    {
      "cell_type": "code",
      "execution_count": null,
      "metadata": {
        "colab": {
          "base_uri": "https://localhost:8080/"
        },
        "id": "sr6FEZ1BPQlr",
        "outputId": "fe10b4ae-8954-438c-ea4f-7fc3e52f7b8c"
      },
      "outputs": [],
      "source": [
        "# let's see what the visual words look like for image 0\n",
        "visual_words[0][:5], len(visual_words[0])"
      ]
    },
    {
      "cell_type": "markdown",
      "metadata": {
        "id": "-9lLe-C0PQls"
      },
      "source": [
        "*each of these values, `84`, `22`, etc., represent a centroid (visual word) from the codebook:*"
      ]
    },
    {
      "cell_type": "code",
      "execution_count": null,
      "metadata": {
        "colab": {
          "base_uri": "https://localhost:8080/"
        },
        "id": "rjMnWySCPQls",
        "outputId": "2cf074e2-225d-41e1-99a0-207f87cc5f9a"
      },
      "outputs": [],
      "source": [
        "# the centroid that represents visual word 84 is of dimensionality...\n",
        "codebook[84].shape  # (all have the same dimensionality)"
      ]
    },
    {
      "cell_type": "markdown",
      "metadata": {
        "id": "S4IjPByePQls"
      },
      "source": [
        "#### 2. Frequency count\n",
        "\n",
        "For each visual word found in the codebook, how often does it appear in an image? We format this as a sparse vector with frequency counts. We select the position to place a count for a visual word using the visual word identifier, e.g., position `84` for the visual word we showed above."
      ]
    },
    {
      "cell_type": "code",
      "execution_count": null,
      "metadata": {
        "colab": {
          "base_uri": "https://localhost:8080/",
          "height": 49,
          "referenced_widgets": [
            "3cee8c12f24f43d0ac9ad3f0fa2113e4",
            "1f1d6bc1558d4315bee2d5808406ec50",
            "1732be9e9c6c49309723dead4a2b50b5",
            "311738d369ec47938f9200fe54f417dc",
            "637ff77b85b440859b415559fdd73ab5",
            "a9992fadb5a245f9805aa2bbe3a4745b",
            "5026ce941ecd48e0af679324af9862a7",
            "4fb14b451eed42138f9a15b9cd03fd09",
            "cbea5c38ff064f1e920203dd54c1d6a3",
            "6d9a38d971284bef85f71f5ce8e8a7b6",
            "47422a25c4844f6ca6fee62090e20552"
          ]
        },
        "id": "_3gf6KBZPQls",
        "outputId": "fa1c64df-b5c5-4120-cf28-b979a62d2039"
      },
      "outputs": [],
      "source": [
        "frequency_vectors = []\n",
        "for img_visual_words in tqdm(visual_words):\n",
        "    ### START YOUR CODE HERE\n",
        "    # create a frequency vector for each image\n",
        "    img_frequency_vector = None\n",
        "    for word in img_visual_words:\n",
        "        img_frequency_vector[word] = None   # add 1 more\n",
        "    frequency_vectors.append(img_frequency_vector)\n",
        "    ### END YOUR CODE HERE\n",
        "# stack together in numpy array\n",
        "frequency_vectors = np.stack(frequency_vectors)"
      ]
    },
    {
      "cell_type": "code",
      "execution_count": null,
      "metadata": {
        "colab": {
          "base_uri": "https://localhost:8080/"
        },
        "id": "9LMDOoVAPQls",
        "outputId": "90f0bebe-3739-4e04-c448-326b69a29271"
      },
      "outputs": [],
      "source": [
        "frequency_vectors.shape"
      ]
    },
    {
      "cell_type": "markdown",
      "metadata": {
        "id": "aUh14UJJPQls"
      },
      "source": [
        "*we know from above that positions `[84,  22,  45, 172]` should all count at least `1` (and at least `2` for position `172`) in the frequency vector for image 0:*"
      ]
    },
    {
      "cell_type": "code",
      "execution_count": null,
      "metadata": {
        "colab": {
          "base_uri": "https://localhost:8080/"
        },
        "id": "T6hghzyjPQls",
        "outputId": "78ec18e0-f0cb-4973-aa0b-43f8ed9e0236"
      },
      "outputs": [],
      "source": [
        "# we know from above that ids 84, 22, 45, and 172 appear in image 0\n",
        "for i in [84,  22,  45, 172]:\n",
        "    print(f\"{i}: {frequency_vectors[0][i]}\")"
      ]
    },
    {
      "cell_type": "markdown",
      "metadata": {
        "id": "N1p8OpQJPQlt"
      },
      "source": [
        "*let's see some more of image 0's frequency vector...*"
      ]
    },
    {
      "cell_type": "code",
      "execution_count": null,
      "metadata": {
        "colab": {
          "base_uri": "https://localhost:8080/"
        },
        "id": "zHcpYcDKPQlt",
        "outputId": "cf2a6d77-0e9d-4d5c-e197-3e4de25ab6b8"
      },
      "outputs": [],
      "source": [
        "frequency_vectors[0][:20]"
      ]
    },
    {
      "cell_type": "markdown",
      "metadata": {
        "id": "w_502ZQpPQlt"
      },
      "source": [
        "*we can also visualize the full image in a histogram like so:*"
      ]
    },
    {
      "cell_type": "code",
      "execution_count": null,
      "metadata": {
        "colab": {
          "base_uri": "https://localhost:8080/",
          "height": 430
        },
        "id": "WNlKHx35PQlt",
        "outputId": "bd683d58-31ee-448c-e75e-6250182708b3"
      },
      "outputs": [],
      "source": [
        "plt.bar(list(range(k)), frequency_vectors[0])\n",
        "plt.show()"
      ]
    },
    {
      "cell_type": "markdown",
      "metadata": {
        "id": "8RoazNmCPQlt"
      },
      "source": [
        "#### 3. Tf-idf\n",
        "\n",
        "The above histogram does not consider the relevance of the visual words. That is why, we want to re-weight them using tf-idf.\n",
        "\n",
        "For reference, here is the formula. Try and refer to this if any of the following code is hard to understand."
      ]
    },
    {
      "cell_type": "markdown",
      "metadata": {
        "id": "SWoPtrilPQlt"
      },
      "source": [
        "$$tf\\textrm{--}idf_{t,d} = tf_{t,d} * idf_t = tf_{t,d} * log\\frac{N}{df_t}$$\n",
        "\n",
        "where:\n",
        "\n",
        "* $tf_{t,d}$ is the term frequency of the visual word $t$ in the image $d$ (the number of times $t$ occurs in $d$).\n",
        "* $N$ is the total number of images.\n",
        "* $df_t$ number of images containing visual word $t$.\n",
        "* $log\\frac{N}{df_t}$ measures the how common visual word $t$ is across all images in the database. This is low if the visual word $d$ occurs many times in the image, high otherwise."
      ]
    },
    {
      "cell_type": "markdown",
      "metadata": {
        "id": "QD9NxIl4PQlt"
      },
      "source": [
        "Let's first calculate \"*df*\", given $N = 9469$, i.e., the length of our dataset."
      ]
    },
    {
      "cell_type": "code",
      "execution_count": null,
      "metadata": {
        "id": "TDWWkILbPQlu"
      },
      "outputs": [],
      "source": [
        "# N is the number of images, i.e. the size of the dataset\n",
        "N = 9469\n",
        "\n",
        "### START YOUR CODE HERE\n",
        "# df is the number of images that a visual word appears in\n",
        "# we calculate it by counting non-zero values as 1 and summing\n",
        "df = np.sum(frequency_vectors > 0, axis=0)\n",
        "### END YOUR CODE HERE"
      ]
    },
    {
      "cell_type": "code",
      "execution_count": null,
      "metadata": {
        "colab": {
          "base_uri": "https://localhost:8080/"
        },
        "id": "283nO5oFPQlu",
        "outputId": "a7265b0c-42fa-4a87-9582-30666708e4ef"
      },
      "outputs": [],
      "source": [
        "df.shape, df[:5]"
      ]
    },
    {
      "cell_type": "markdown",
      "metadata": {
        "id": "9rXimlzfPQlu"
      },
      "source": [
        "*from this we know that visual word `0` appears in `7935` images, visual word `1` in `7373` images, and so on.*\n",
        "\n",
        "Using `N` and `df` we can calculate *\"idf\"* (which is the same for every image)."
      ]
    },
    {
      "cell_type": "code",
      "execution_count": null,
      "metadata": {
        "colab": {
          "base_uri": "https://localhost:8080/"
        },
        "id": "oc0LfcrRPQlu",
        "outputId": "9c393242-d3ab-4ee4-c081-e689317efe9b"
      },
      "outputs": [],
      "source": [
        "### START YOUR CODE HERE\n",
        "idf = None\n",
        "idf.shape, idf[:5]\n",
        "### END YOUR CODE HERE"
      ]
    },
    {
      "cell_type": "markdown",
      "metadata": {
        "id": "q1EEcvCSPQlu"
      },
      "source": [
        "Now we move on to the full tf-idf calculation, we just multiply the *\"tf\"* for each image by this `idf` vector. We have already calculated the *\"tf\"* values, they are the frequency vectors stored in `frequency_vectors`."
      ]
    },
    {
      "cell_type": "code",
      "execution_count": null,
      "metadata": {
        "colab": {
          "base_uri": "https://localhost:8080/"
        },
        "id": "AYMAxVfcPQlu",
        "outputId": "2c3f4288-ad83-4248-dab9-fc911b8ff95b"
      },
      "outputs": [],
      "source": [
        "### START YOUR CODE HERE\n",
        "tfidf = None\n",
        "tfidf.shape, tfidf[0][:5]\n",
        "### END YOUR CODE HERE"
      ]
    },
    {
      "cell_type": "markdown",
      "metadata": {
        "id": "DjJuXd2UPQlu"
      },
      "source": [
        "Visualizing the tf-idf vector for image `0` gives use:"
      ]
    },
    {
      "cell_type": "code",
      "execution_count": null,
      "metadata": {
        "colab": {
          "base_uri": "https://localhost:8080/",
          "height": 430
        },
        "id": "abyFTrGpPQlu",
        "outputId": "3ab520ad-046c-4038-feec-fd65b0a12bfc"
      },
      "outputs": [],
      "source": [
        "plt.bar(list(range(k)), tfidf[0])\n",
        "plt.show()"
      ]
    },
    {
      "cell_type": "markdown",
      "metadata": {
        "id": "T82tSSNbPQlv"
      },
      "source": [
        "### Finalizing Results"
      ]
    },
    {
      "cell_type": "markdown",
      "metadata": {
        "id": "A9VX_FwwPQlv"
      },
      "source": [
        "We have now generated tf-idf vectors based on the visual words of our images. To compare these images we can use a metric like *cosine similarity*."
      ]
    },
    {
      "cell_type": "markdown",
      "metadata": {
        "id": "szRWSPNUPQlv"
      },
      "source": [
        "We will use image `6` as our search term:"
      ]
    },
    {
      "cell_type": "code",
      "execution_count": null,
      "metadata": {
        "colab": {
          "base_uri": "https://localhost:8080/",
          "height": 344
        },
        "id": "tk9wd_rDPQlv",
        "outputId": "0dbbd986-de9a-4312-9188-1dbd6bfac0d9"
      },
      "outputs": [],
      "source": [
        "search_i = 0\n",
        "\n",
        "plt.imshow(bw_images[search_i], cmap='gray')\n",
        "plt.show()"
      ]
    },
    {
      "cell_type": "markdown",
      "metadata": {
        "id": "BxCXYlEPPQlv"
      },
      "source": [
        "Again, for reference, our cosine similarity range is $[0,1]$, and it is calculated as follows:\n",
        "\n",
        "$$cossim(A,B)= cos(\\theta)=\\frac{A \\cdot B}{||A|| \\space ||B||}$$"
      ]
    },
    {
      "cell_type": "code",
      "execution_count": null,
      "metadata": {
        "colab": {
          "base_uri": "https://localhost:8080/"
        },
        "id": "wPdx4W2JPQlv",
        "outputId": "6c723380-7125-4d15-8e9d-ada78fc75a50"
      },
      "outputs": [],
      "source": [
        "# cosine similarity\n",
        "from numpy.linalg import norm\n",
        "\n",
        "### START YOUR CODE HERE\n",
        "a = tfidf[search_i]\n",
        "b = tfidf  # set search space to the full sample\n",
        "\n",
        "cosine_similarity = None\n",
        "print(\"Min cosine similarity:\", round(np.min(cosine_similarity),1))\n",
        "print(\"Max cosine similarity:\", np.max(cosine_similarity))\n",
        "### END YOUR CODE HERE"
      ]
    },
    {
      "cell_type": "markdown",
      "metadata": {
        "id": "2I3b4I_OPQlv"
      },
      "source": [
        "In our TF-IDF vectors, two highly similar images should be separated by a very small angular distance. Using cosine similarity, small angles output a high score (i.e., towards $1$).\n",
        "\n",
        "Let's pick a random image from our dataset and retrieve the top 5 most similar images."
      ]
    },
    {
      "cell_type": "code",
      "execution_count": null,
      "metadata": {
        "colab": {
          "base_uri": "https://localhost:8080/"
        },
        "id": "XMtZakolPQlv",
        "outputId": "6d7063f4-2d0e-4278-dcde-8f1d8e82427e"
      },
      "outputs": [],
      "source": [
        "cosine_similarity.shape"
      ]
    },
    {
      "cell_type": "code",
      "execution_count": null,
      "metadata": {
        "colab": {
          "base_uri": "https://localhost:8080/"
        },
        "id": "3EJZlaivPQlw",
        "outputId": "ad9a80b8-2d3e-401b-f51e-fdc808d49f2f"
      },
      "outputs": [],
      "source": [
        "cosine_similarity"
      ]
    },
    {
      "cell_type": "markdown",
      "metadata": {
        "id": "AkOHXuOiPQlw"
      },
      "source": [
        "To find the `top_k` most similar items, we use Numpy's `argpartition`."
      ]
    },
    {
      "cell_type": "code",
      "execution_count": null,
      "metadata": {
        "colab": {
          "base_uri": "https://localhost:8080/"
        },
        "id": "jiTp_K2nPQlw",
        "outputId": "7d9d5303-546c-4cde-a57a-63c13763c62a"
      },
      "outputs": [],
      "source": [
        "### START YOUR CODE HERE\n",
        "top_k = 5\n",
        "idx = None\n",
        "idx\n",
        "### END YOUR CODE HERE"
      ]
    },
    {
      "cell_type": "markdown",
      "metadata": {
        "id": "Z7HrkW45PQlw"
      },
      "source": [
        "The first image in the array should correspond to the image itself. Therefore, the cosine similarity must be $≅1$."
      ]
    },
    {
      "cell_type": "code",
      "execution_count": null,
      "metadata": {
        "colab": {
          "base_uri": "https://localhost:8080/"
        },
        "id": "axcGZAoVPQlw",
        "outputId": "ebe766eb-cc4b-460c-8e0f-4fa49cbea1e7"
      },
      "outputs": [],
      "source": [
        "cosine_similarity[idx[0]]"
      ]
    },
    {
      "cell_type": "code",
      "execution_count": null,
      "metadata": {
        "colab": {
          "base_uri": "https://localhost:8080/",
          "height": 1000
        },
        "id": "Lg-YPUWQPQlw",
        "outputId": "ab4c9e96-bbc0-4b8b-d2ba-093b9707375a"
      },
      "outputs": [],
      "source": [
        "for i in idx:\n",
        "    print(f\"{i}: {round(cosine_similarity[i], 4)}\")\n",
        "    plt.imshow(bw_images[i], cmap='gray')\n",
        "    plt.show()"
      ]
    },
    {
      "cell_type": "markdown",
      "metadata": {
        "id": "UShNDK-0PQlx"
      },
      "source": [
        "This looks promising, we can test with a few more images."
      ]
    },
    {
      "cell_type": "code",
      "execution_count": null,
      "metadata": {
        "id": "bf9S7fudPQlx"
      },
      "outputs": [],
      "source": [
        "def search(i: int, top_k: int = 5):\n",
        "    print(\"Search image:\")\n",
        "    # show the search image\n",
        "    plt.imshow(bw_images[i], cmap='gray')\n",
        "    plt.show()\n",
        "    print(\"-----------------------------------------------------\")\n",
        "    # get search image vector\n",
        "    a = tfidf[i]\n",
        "\n",
        "    ### START YOUR CODE HERE\n",
        "    # get the cosine distance for the search image `a`\n",
        "    cosine_similarity = None\n",
        "    # get the top k indices for most similar vecs\n",
        "    idx = None\n",
        "    ### END YOUR CODE HERE\n",
        "\n",
        "    # display the results\n",
        "    for i in idx:\n",
        "        print(f\"{i}: {round(cosine_similarity[i], 4)}\")\n",
        "        plt.imshow(bw_images[i], cmap='gray')\n",
        "        plt.show()"
      ]
    },
    {
      "cell_type": "code",
      "execution_count": null,
      "metadata": {
        "colab": {
          "base_uri": "https://localhost:8080/",
          "height": 1000
        },
        "id": "ZCoHyR6jPQlx",
        "outputId": "3012934e-cefd-494b-ac4e-3b6a7f764d1f"
      },
      "outputs": [],
      "source": [
        "search(1200)"
      ]
    },
    {
      "cell_type": "code",
      "execution_count": null,
      "metadata": {
        "colab": {
          "base_uri": "https://localhost:8080/",
          "height": 1000
        },
        "id": "zufuVJDfPQlx",
        "outputId": "9e32215f-11a4-4059-face-61a4876b16da"
      },
      "outputs": [],
      "source": [
        "search(2)"
      ]
    },
    {
      "cell_type": "code",
      "execution_count": null,
      "metadata": {
        "colab": {
          "base_uri": "https://localhost:8080/",
          "height": 1000
        },
        "id": "TtWuV8MoPQlx",
        "outputId": "30027c7e-5d1a-4687-e23b-e38eabc59fbe"
      },
      "outputs": [],
      "source": [
        "search(8450)"
      ]
    },
    {
      "cell_type": "markdown",
      "metadata": {
        "id": "iQe2HvWKPQlx"
      },
      "source": [
        "The results are not always perfect, but for the most part it seems to manage in returning similar images."
      ]
    },
    {
      "cell_type": "markdown",
      "metadata": {
        "id": "uNbUSYxaPQly"
      },
      "source": [
        "---"
      ]
    }
  ],
  "metadata": {
    "colab": {
      "provenance": []
    },
    "kernelspec": {
      "display_name": "Python 3.8.13 ('image-embeds')",
      "language": "python",
      "name": "python3"
    },
    "language_info": {
      "codemirror_mode": {
        "name": "ipython",
        "version": 3
      },
      "file_extension": ".py",
      "mimetype": "text/x-python",
      "name": "python",
      "nbconvert_exporter": "python",
      "pygments_lexer": "ipython3",
      "version": "3.12.2"
    },
    "orig_nbformat": 4,
    "vscode": {
      "interpreter": {
        "hash": "9ec8fc8fb845fc3e050bf8bf651a355c069bbfeddee31167baf4bc42b6050476"
      }
    },
    "widgets": {
      "application/vnd.jupyter.widget-state+json": {
        "00c9bea4d00d47ceb2e134b2cf773fe3": {
          "model_module": "@jupyter-widgets/controls",
          "model_module_version": "1.5.0",
          "model_name": "DescriptionStyleModel",
          "state": {
            "_model_module": "@jupyter-widgets/controls",
            "_model_module_version": "1.5.0",
            "_model_name": "DescriptionStyleModel",
            "_view_count": null,
            "_view_module": "@jupyter-widgets/base",
            "_view_module_version": "1.2.0",
            "_view_name": "StyleView",
            "description_width": ""
          }
        },
        "04abc2beb6244a74a521c002dd7e6a86": {
          "model_module": "@jupyter-widgets/controls",
          "model_module_version": "1.5.0",
          "model_name": "FloatProgressModel",
          "state": {
            "_dom_classes": [],
            "_model_module": "@jupyter-widgets/controls",
            "_model_module_version": "1.5.0",
            "_model_name": "FloatProgressModel",
            "_view_count": null,
            "_view_module": "@jupyter-widgets/controls",
            "_view_module_version": "1.5.0",
            "_view_name": "ProgressView",
            "bar_style": "success",
            "description": "",
            "description_tooltip": null,
            "layout": "IPY_MODEL_47d88caadb6144fb81015425a9d0d742",
            "max": 9469,
            "min": 0,
            "orientation": "horizontal",
            "style": "IPY_MODEL_ed0c37b311194f8aab1c191f819b5bc8",
            "value": 9469
          }
        },
        "04dc3d4c823a481aad38946bd6cc49b2": {
          "model_module": "@jupyter-widgets/controls",
          "model_module_version": "1.5.0",
          "model_name": "DescriptionStyleModel",
          "state": {
            "_model_module": "@jupyter-widgets/controls",
            "_model_module_version": "1.5.0",
            "_model_name": "DescriptionStyleModel",
            "_view_count": null,
            "_view_module": "@jupyter-widgets/base",
            "_view_module_version": "1.2.0",
            "_view_name": "StyleView",
            "description_width": ""
          }
        },
        "0714ff619e58480981146787feb88e76": {
          "model_module": "@jupyter-widgets/controls",
          "model_module_version": "1.5.0",
          "model_name": "HTMLModel",
          "state": {
            "_dom_classes": [],
            "_model_module": "@jupyter-widgets/controls",
            "_model_module_version": "1.5.0",
            "_model_name": "HTMLModel",
            "_view_count": null,
            "_view_module": "@jupyter-widgets/controls",
            "_view_module_version": "1.5.0",
            "_view_name": "HTMLView",
            "description": "",
            "description_tooltip": null,
            "layout": "IPY_MODEL_43db77a9400d412caed13b873dc92389",
            "placeholder": "​",
            "style": "IPY_MODEL_04dc3d4c823a481aad38946bd6cc49b2",
            "value": " 9466/9466 [00:11&lt;00:00, 869.18it/s]"
          }
        },
        "079d98694c484bb0ac788abe5c425b67": {
          "model_module": "@jupyter-widgets/controls",
          "model_module_version": "1.5.0",
          "model_name": "HBoxModel",
          "state": {
            "_dom_classes": [],
            "_model_module": "@jupyter-widgets/controls",
            "_model_module_version": "1.5.0",
            "_model_name": "HBoxModel",
            "_view_count": null,
            "_view_module": "@jupyter-widgets/controls",
            "_view_module_version": "1.5.0",
            "_view_name": "HBoxView",
            "box_style": "",
            "children": [
              "IPY_MODEL_9e2d114cb04741eda436711d5d54cbd3",
              "IPY_MODEL_e7f788a0a2214ffd9cb2df833d825039",
              "IPY_MODEL_0714ff619e58480981146787feb88e76"
            ],
            "layout": "IPY_MODEL_be5a6f8480d04207b328fe1bb6f16995"
          }
        },
        "0cb3f55d93e74633b89c23b6f936ca76": {
          "model_module": "@jupyter-widgets/controls",
          "model_module_version": "1.5.0",
          "model_name": "DescriptionStyleModel",
          "state": {
            "_model_module": "@jupyter-widgets/controls",
            "_model_module_version": "1.5.0",
            "_model_name": "DescriptionStyleModel",
            "_view_count": null,
            "_view_module": "@jupyter-widgets/base",
            "_view_module_version": "1.2.0",
            "_view_name": "StyleView",
            "description_width": ""
          }
        },
        "0e9f4dc81aa14e29b30c85af753b8eff": {
          "model_module": "@jupyter-widgets/controls",
          "model_module_version": "1.5.0",
          "model_name": "DescriptionStyleModel",
          "state": {
            "_model_module": "@jupyter-widgets/controls",
            "_model_module_version": "1.5.0",
            "_model_name": "DescriptionStyleModel",
            "_view_count": null,
            "_view_module": "@jupyter-widgets/base",
            "_view_module_version": "1.2.0",
            "_view_name": "StyleView",
            "description_width": ""
          }
        },
        "131e63b7608f419a8e92827fc2362421": {
          "model_module": "@jupyter-widgets/controls",
          "model_module_version": "1.5.0",
          "model_name": "DescriptionStyleModel",
          "state": {
            "_model_module": "@jupyter-widgets/controls",
            "_model_module_version": "1.5.0",
            "_model_name": "DescriptionStyleModel",
            "_view_count": null,
            "_view_module": "@jupyter-widgets/base",
            "_view_module_version": "1.2.0",
            "_view_name": "StyleView",
            "description_width": ""
          }
        },
        "14b86e62701d41b888cea79b8c0fc591": {
          "model_module": "@jupyter-widgets/controls",
          "model_module_version": "1.5.0",
          "model_name": "DescriptionStyleModel",
          "state": {
            "_model_module": "@jupyter-widgets/controls",
            "_model_module_version": "1.5.0",
            "_model_name": "DescriptionStyleModel",
            "_view_count": null,
            "_view_module": "@jupyter-widgets/base",
            "_view_module_version": "1.2.0",
            "_view_name": "StyleView",
            "description_width": ""
          }
        },
        "1732be9e9c6c49309723dead4a2b50b5": {
          "model_module": "@jupyter-widgets/controls",
          "model_module_version": "1.5.0",
          "model_name": "FloatProgressModel",
          "state": {
            "_dom_classes": [],
            "_model_module": "@jupyter-widgets/controls",
            "_model_module_version": "1.5.0",
            "_model_name": "FloatProgressModel",
            "_view_count": null,
            "_view_module": "@jupyter-widgets/controls",
            "_view_module_version": "1.5.0",
            "_view_name": "ProgressView",
            "bar_style": "success",
            "description": "",
            "description_tooltip": null,
            "layout": "IPY_MODEL_4fb14b451eed42138f9a15b9cd03fd09",
            "max": 9466,
            "min": 0,
            "orientation": "horizontal",
            "style": "IPY_MODEL_cbea5c38ff064f1e920203dd54c1d6a3",
            "value": 9466
          }
        },
        "1a83a7d8cd0d4ca88fc9c9258925b33c": {
          "model_module": "@jupyter-widgets/controls",
          "model_module_version": "1.5.0",
          "model_name": "HTMLModel",
          "state": {
            "_dom_classes": [],
            "_model_module": "@jupyter-widgets/controls",
            "_model_module_version": "1.5.0",
            "_model_name": "HTMLModel",
            "_view_count": null,
            "_view_module": "@jupyter-widgets/controls",
            "_view_module_version": "1.5.0",
            "_view_name": "HTMLView",
            "description": "",
            "description_tooltip": null,
            "layout": "IPY_MODEL_df46faada35541d391eb3d55f4a88423",
            "placeholder": "​",
            "style": "IPY_MODEL_882aa1b9f5604b8bb14ac32110afa983",
            "value": " 9469/9469 [03:36&lt;00:00, 46.46it/s]"
          }
        },
        "1ee7e55328b944e4954424c94f2724b9": {
          "model_module": "@jupyter-widgets/controls",
          "model_module_version": "1.5.0",
          "model_name": "HTMLModel",
          "state": {
            "_dom_classes": [],
            "_model_module": "@jupyter-widgets/controls",
            "_model_module_version": "1.5.0",
            "_model_name": "HTMLModel",
            "_view_count": null,
            "_view_module": "@jupyter-widgets/controls",
            "_view_module_version": "1.5.0",
            "_view_name": "HTMLView",
            "description": "",
            "description_tooltip": null,
            "layout": "IPY_MODEL_ad1a9e9cd5f74a56bbd5c775abd49b28",
            "placeholder": "​",
            "style": "IPY_MODEL_451975acd2c9415891387a584fb0e7f2",
            "value": " 9469/9469 [00:00&lt;00:00, 23765.49 examples/s]"
          }
        },
        "1f1d6bc1558d4315bee2d5808406ec50": {
          "model_module": "@jupyter-widgets/controls",
          "model_module_version": "1.5.0",
          "model_name": "HTMLModel",
          "state": {
            "_dom_classes": [],
            "_model_module": "@jupyter-widgets/controls",
            "_model_module_version": "1.5.0",
            "_model_name": "HTMLModel",
            "_view_count": null,
            "_view_module": "@jupyter-widgets/controls",
            "_view_module_version": "1.5.0",
            "_view_name": "HTMLView",
            "description": "",
            "description_tooltip": null,
            "layout": "IPY_MODEL_a9992fadb5a245f9805aa2bbe3a4745b",
            "placeholder": "​",
            "style": "IPY_MODEL_5026ce941ecd48e0af679324af9862a7",
            "value": "100%"
          }
        },
        "23f914472afc4524b65f564f82252953": {
          "model_module": "@jupyter-widgets/controls",
          "model_module_version": "1.5.0",
          "model_name": "FloatProgressModel",
          "state": {
            "_dom_classes": [],
            "_model_module": "@jupyter-widgets/controls",
            "_model_module_version": "1.5.0",
            "_model_name": "FloatProgressModel",
            "_view_count": null,
            "_view_module": "@jupyter-widgets/controls",
            "_view_module_version": "1.5.0",
            "_view_name": "ProgressView",
            "bar_style": "success",
            "description": "",
            "description_tooltip": null,
            "layout": "IPY_MODEL_6b71e98bf277464ba303af84a4dccda4",
            "max": 9469,
            "min": 0,
            "orientation": "horizontal",
            "style": "IPY_MODEL_5415f32f0f654e129d6a5a90577bfbb5",
            "value": 9469
          }
        },
        "255c9fef50dc4e3889c68a8ca734b7b0": {
          "model_module": "@jupyter-widgets/controls",
          "model_module_version": "1.5.0",
          "model_name": "DescriptionStyleModel",
          "state": {
            "_model_module": "@jupyter-widgets/controls",
            "_model_module_version": "1.5.0",
            "_model_name": "DescriptionStyleModel",
            "_view_count": null,
            "_view_module": "@jupyter-widgets/base",
            "_view_module_version": "1.2.0",
            "_view_name": "StyleView",
            "description_width": ""
          }
        },
        "261fcc6c446b4eb9ba941ae3c5e1cbe8": {
          "model_module": "@jupyter-widgets/controls",
          "model_module_version": "1.5.0",
          "model_name": "HTMLModel",
          "state": {
            "_dom_classes": [],
            "_model_module": "@jupyter-widgets/controls",
            "_model_module_version": "1.5.0",
            "_model_name": "HTMLModel",
            "_view_count": null,
            "_view_module": "@jupyter-widgets/controls",
            "_view_module_version": "1.5.0",
            "_view_name": "HTMLView",
            "description": "",
            "description_tooltip": null,
            "layout": "IPY_MODEL_cda2ed073232458f8fb31abb7587ad2f",
            "placeholder": "​",
            "style": "IPY_MODEL_8c1dc6e701aa4012b4dcf45cf7a6e458",
            "value": " 9469/9469 [00:09&lt;00:00, 774.50it/s]"
          }
        },
        "2df670e8aa38417d8620b44fecc86e31": {
          "model_module": "@jupyter-widgets/controls",
          "model_module_version": "1.5.0",
          "model_name": "HTMLModel",
          "state": {
            "_dom_classes": [],
            "_model_module": "@jupyter-widgets/controls",
            "_model_module_version": "1.5.0",
            "_model_name": "HTMLModel",
            "_view_count": null,
            "_view_module": "@jupyter-widgets/controls",
            "_view_module_version": "1.5.0",
            "_view_name": "HTMLView",
            "description": "",
            "description_tooltip": null,
            "layout": "IPY_MODEL_8a0c5c3c9aa6442e96ee095b40ac6ea9",
            "placeholder": "​",
            "style": "IPY_MODEL_14b86e62701d41b888cea79b8c0fc591",
            "value": "100%"
          }
        },
        "2e8b703e2600499690399d622331ef4a": {
          "model_module": "@jupyter-widgets/controls",
          "model_module_version": "1.5.0",
          "model_name": "HTMLModel",
          "state": {
            "_dom_classes": [],
            "_model_module": "@jupyter-widgets/controls",
            "_model_module_version": "1.5.0",
            "_model_name": "HTMLModel",
            "_view_count": null,
            "_view_module": "@jupyter-widgets/controls",
            "_view_module_version": "1.5.0",
            "_view_name": "HTMLView",
            "description": "",
            "description_tooltip": null,
            "layout": "IPY_MODEL_b88bf73c1df54f5c97e1fcff9ebbf83d",
            "placeholder": "​",
            "style": "IPY_MODEL_815facc28fbb4cd68fe1dd8774a0aa4d",
            "value": "Downloading data: 100%"
          }
        },
        "2e8d14cb4d414545985bfb64d26a9eba": {
          "model_module": "@jupyter-widgets/base",
          "model_module_version": "1.2.0",
          "model_name": "LayoutModel",
          "state": {
            "_model_module": "@jupyter-widgets/base",
            "_model_module_version": "1.2.0",
            "_model_name": "LayoutModel",
            "_view_count": null,
            "_view_module": "@jupyter-widgets/base",
            "_view_module_version": "1.2.0",
            "_view_name": "LayoutView",
            "align_content": null,
            "align_items": null,
            "align_self": null,
            "border": null,
            "bottom": null,
            "display": null,
            "flex": null,
            "flex_flow": null,
            "grid_area": null,
            "grid_auto_columns": null,
            "grid_auto_flow": null,
            "grid_auto_rows": null,
            "grid_column": null,
            "grid_gap": null,
            "grid_row": null,
            "grid_template_areas": null,
            "grid_template_columns": null,
            "grid_template_rows": null,
            "height": null,
            "justify_content": null,
            "justify_items": null,
            "left": null,
            "margin": null,
            "max_height": null,
            "max_width": null,
            "min_height": null,
            "min_width": null,
            "object_fit": null,
            "object_position": null,
            "order": null,
            "overflow": null,
            "overflow_x": null,
            "overflow_y": null,
            "padding": null,
            "right": null,
            "top": null,
            "visibility": null,
            "width": null
          }
        },
        "311738d369ec47938f9200fe54f417dc": {
          "model_module": "@jupyter-widgets/controls",
          "model_module_version": "1.5.0",
          "model_name": "HTMLModel",
          "state": {
            "_dom_classes": [],
            "_model_module": "@jupyter-widgets/controls",
            "_model_module_version": "1.5.0",
            "_model_name": "HTMLModel",
            "_view_count": null,
            "_view_module": "@jupyter-widgets/controls",
            "_view_module_version": "1.5.0",
            "_view_name": "HTMLView",
            "description": "",
            "description_tooltip": null,
            "layout": "IPY_MODEL_6d9a38d971284bef85f71f5ce8e8a7b6",
            "placeholder": "​",
            "style": "IPY_MODEL_47422a25c4844f6ca6fee62090e20552",
            "value": " 9466/9466 [00:01&lt;00:00, 6379.19it/s]"
          }
        },
        "3183565db05f46379b5892cc552f1eef": {
          "model_module": "@jupyter-widgets/controls",
          "model_module_version": "1.5.0",
          "model_name": "ProgressStyleModel",
          "state": {
            "_model_module": "@jupyter-widgets/controls",
            "_model_module_version": "1.5.0",
            "_model_name": "ProgressStyleModel",
            "_view_count": null,
            "_view_module": "@jupyter-widgets/base",
            "_view_module_version": "1.2.0",
            "_view_name": "StyleView",
            "bar_color": null,
            "description_width": ""
          }
        },
        "3189626134844a9cbf7272600e1e7678": {
          "model_module": "@jupyter-widgets/controls",
          "model_module_version": "1.5.0",
          "model_name": "HTMLModel",
          "state": {
            "_dom_classes": [],
            "_model_module": "@jupyter-widgets/controls",
            "_model_module_version": "1.5.0",
            "_model_name": "HTMLModel",
            "_view_count": null,
            "_view_module": "@jupyter-widgets/controls",
            "_view_module_version": "1.5.0",
            "_view_name": "HTMLView",
            "description": "",
            "description_tooltip": null,
            "layout": "IPY_MODEL_b2b66c71662b492f874e5195a054a315",
            "placeholder": "​",
            "style": "IPY_MODEL_131e63b7608f419a8e92827fc2362421",
            "value": "100%"
          }
        },
        "36d186c5735947f7a1f7b441eaf83013": {
          "model_module": "@jupyter-widgets/controls",
          "model_module_version": "1.5.0",
          "model_name": "HTMLModel",
          "state": {
            "_dom_classes": [],
            "_model_module": "@jupyter-widgets/controls",
            "_model_module_version": "1.5.0",
            "_model_name": "HTMLModel",
            "_view_count": null,
            "_view_module": "@jupyter-widgets/controls",
            "_view_module_version": "1.5.0",
            "_view_name": "HTMLView",
            "description": "",
            "description_tooltip": null,
            "layout": "IPY_MODEL_53e1bdaa6b864447a260ff5d2119749e",
            "placeholder": "​",
            "style": "IPY_MODEL_00c9bea4d00d47ceb2e134b2cf773fe3",
            "value": "Generating train split: 100%"
          }
        },
        "3c7ab31e455c4bbe80413377f3749e2f": {
          "model_module": "@jupyter-widgets/base",
          "model_module_version": "1.2.0",
          "model_name": "LayoutModel",
          "state": {
            "_model_module": "@jupyter-widgets/base",
            "_model_module_version": "1.2.0",
            "_model_name": "LayoutModel",
            "_view_count": null,
            "_view_module": "@jupyter-widgets/base",
            "_view_module_version": "1.2.0",
            "_view_name": "LayoutView",
            "align_content": null,
            "align_items": null,
            "align_self": null,
            "border": null,
            "bottom": null,
            "display": null,
            "flex": null,
            "flex_flow": null,
            "grid_area": null,
            "grid_auto_columns": null,
            "grid_auto_flow": null,
            "grid_auto_rows": null,
            "grid_column": null,
            "grid_gap": null,
            "grid_row": null,
            "grid_template_areas": null,
            "grid_template_columns": null,
            "grid_template_rows": null,
            "height": null,
            "justify_content": null,
            "justify_items": null,
            "left": null,
            "margin": null,
            "max_height": null,
            "max_width": null,
            "min_height": null,
            "min_width": null,
            "object_fit": null,
            "object_position": null,
            "order": null,
            "overflow": null,
            "overflow_x": null,
            "overflow_y": null,
            "padding": null,
            "right": null,
            "top": null,
            "visibility": null,
            "width": null
          }
        },
        "3cee8c12f24f43d0ac9ad3f0fa2113e4": {
          "model_module": "@jupyter-widgets/controls",
          "model_module_version": "1.5.0",
          "model_name": "HBoxModel",
          "state": {
            "_dom_classes": [],
            "_model_module": "@jupyter-widgets/controls",
            "_model_module_version": "1.5.0",
            "_model_name": "HBoxModel",
            "_view_count": null,
            "_view_module": "@jupyter-widgets/controls",
            "_view_module_version": "1.5.0",
            "_view_name": "HBoxView",
            "box_style": "",
            "children": [
              "IPY_MODEL_1f1d6bc1558d4315bee2d5808406ec50",
              "IPY_MODEL_1732be9e9c6c49309723dead4a2b50b5",
              "IPY_MODEL_311738d369ec47938f9200fe54f417dc"
            ],
            "layout": "IPY_MODEL_637ff77b85b440859b415559fdd73ab5"
          }
        },
        "3fe3d21cc6d34965ad590ac6a8c28162": {
          "model_module": "@jupyter-widgets/controls",
          "model_module_version": "1.5.0",
          "model_name": "HBoxModel",
          "state": {
            "_dom_classes": [],
            "_model_module": "@jupyter-widgets/controls",
            "_model_module_version": "1.5.0",
            "_model_name": "HBoxModel",
            "_view_count": null,
            "_view_module": "@jupyter-widgets/controls",
            "_view_module_version": "1.5.0",
            "_view_name": "HBoxView",
            "box_style": "",
            "children": [
              "IPY_MODEL_ba6813fb6acb4daa9c478d1e58edbbc4",
              "IPY_MODEL_6b6697754c044e4b91d667ef21806eab",
              "IPY_MODEL_eb1f003e6f7e47cabad5d874b2b60eff"
            ],
            "layout": "IPY_MODEL_bd9c98f80fdb4e11907f0ad0c1d0669b"
          }
        },
        "40a5b567d32f4c818b436d28e15f42ab": {
          "model_module": "@jupyter-widgets/base",
          "model_module_version": "1.2.0",
          "model_name": "LayoutModel",
          "state": {
            "_model_module": "@jupyter-widgets/base",
            "_model_module_version": "1.2.0",
            "_model_name": "LayoutModel",
            "_view_count": null,
            "_view_module": "@jupyter-widgets/base",
            "_view_module_version": "1.2.0",
            "_view_name": "LayoutView",
            "align_content": null,
            "align_items": null,
            "align_self": null,
            "border": null,
            "bottom": null,
            "display": null,
            "flex": null,
            "flex_flow": null,
            "grid_area": null,
            "grid_auto_columns": null,
            "grid_auto_flow": null,
            "grid_auto_rows": null,
            "grid_column": null,
            "grid_gap": null,
            "grid_row": null,
            "grid_template_areas": null,
            "grid_template_columns": null,
            "grid_template_rows": null,
            "height": null,
            "justify_content": null,
            "justify_items": null,
            "left": null,
            "margin": null,
            "max_height": null,
            "max_width": null,
            "min_height": null,
            "min_width": null,
            "object_fit": null,
            "object_position": null,
            "order": null,
            "overflow": null,
            "overflow_x": null,
            "overflow_y": null,
            "padding": null,
            "right": null,
            "top": null,
            "visibility": null,
            "width": null
          }
        },
        "43db77a9400d412caed13b873dc92389": {
          "model_module": "@jupyter-widgets/base",
          "model_module_version": "1.2.0",
          "model_name": "LayoutModel",
          "state": {
            "_model_module": "@jupyter-widgets/base",
            "_model_module_version": "1.2.0",
            "_model_name": "LayoutModel",
            "_view_count": null,
            "_view_module": "@jupyter-widgets/base",
            "_view_module_version": "1.2.0",
            "_view_name": "LayoutView",
            "align_content": null,
            "align_items": null,
            "align_self": null,
            "border": null,
            "bottom": null,
            "display": null,
            "flex": null,
            "flex_flow": null,
            "grid_area": null,
            "grid_auto_columns": null,
            "grid_auto_flow": null,
            "grid_auto_rows": null,
            "grid_column": null,
            "grid_gap": null,
            "grid_row": null,
            "grid_template_areas": null,
            "grid_template_columns": null,
            "grid_template_rows": null,
            "height": null,
            "justify_content": null,
            "justify_items": null,
            "left": null,
            "margin": null,
            "max_height": null,
            "max_width": null,
            "min_height": null,
            "min_width": null,
            "object_fit": null,
            "object_position": null,
            "order": null,
            "overflow": null,
            "overflow_x": null,
            "overflow_y": null,
            "padding": null,
            "right": null,
            "top": null,
            "visibility": null,
            "width": null
          }
        },
        "4409072ef91e4fa0a884b64635fa6339": {
          "model_module": "@jupyter-widgets/controls",
          "model_module_version": "1.5.0",
          "model_name": "HBoxModel",
          "state": {
            "_dom_classes": [],
            "_model_module": "@jupyter-widgets/controls",
            "_model_module_version": "1.5.0",
            "_model_name": "HBoxModel",
            "_view_count": null,
            "_view_module": "@jupyter-widgets/controls",
            "_view_module_version": "1.5.0",
            "_view_name": "HBoxView",
            "box_style": "",
            "children": [
              "IPY_MODEL_97855c44480848e0845741f7a065b0be",
              "IPY_MODEL_eb72b37668094ca9b68311e8a035649c",
              "IPY_MODEL_46efa0c71926461490246b039335ab62"
            ],
            "layout": "IPY_MODEL_926aeec34faa44ce87a30b6fa8d29f81"
          }
        },
        "451975acd2c9415891387a584fb0e7f2": {
          "model_module": "@jupyter-widgets/controls",
          "model_module_version": "1.5.0",
          "model_name": "DescriptionStyleModel",
          "state": {
            "_model_module": "@jupyter-widgets/controls",
            "_model_module_version": "1.5.0",
            "_model_name": "DescriptionStyleModel",
            "_view_count": null,
            "_view_module": "@jupyter-widgets/base",
            "_view_module_version": "1.2.0",
            "_view_name": "StyleView",
            "description_width": ""
          }
        },
        "459a80e2dcc74fc587808a1eb711ecee": {
          "model_module": "@jupyter-widgets/controls",
          "model_module_version": "1.5.0",
          "model_name": "ProgressStyleModel",
          "state": {
            "_model_module": "@jupyter-widgets/controls",
            "_model_module_version": "1.5.0",
            "_model_name": "ProgressStyleModel",
            "_view_count": null,
            "_view_module": "@jupyter-widgets/base",
            "_view_module_version": "1.2.0",
            "_view_name": "StyleView",
            "bar_color": null,
            "description_width": ""
          }
        },
        "467a2c2de8ec47d38c74dfedb5c54363": {
          "model_module": "@jupyter-widgets/controls",
          "model_module_version": "1.5.0",
          "model_name": "DescriptionStyleModel",
          "state": {
            "_model_module": "@jupyter-widgets/controls",
            "_model_module_version": "1.5.0",
            "_model_name": "DescriptionStyleModel",
            "_view_count": null,
            "_view_module": "@jupyter-widgets/base",
            "_view_module_version": "1.2.0",
            "_view_name": "StyleView",
            "description_width": ""
          }
        },
        "46efa0c71926461490246b039335ab62": {
          "model_module": "@jupyter-widgets/controls",
          "model_module_version": "1.5.0",
          "model_name": "HTMLModel",
          "state": {
            "_dom_classes": [],
            "_model_module": "@jupyter-widgets/controls",
            "_model_module_version": "1.5.0",
            "_model_name": "HTMLModel",
            "_view_count": null,
            "_view_module": "@jupyter-widgets/controls",
            "_view_module_version": "1.5.0",
            "_view_name": "HTMLView",
            "description": "",
            "description_tooltip": null,
            "layout": "IPY_MODEL_be2cca356c954456af7bb1dc74aad469",
            "placeholder": "​",
            "style": "IPY_MODEL_255c9fef50dc4e3889c68a8ca734b7b0",
            "value": " 74.8M/74.8M [00:11&lt;00:00, 7.41MB/s]"
          }
        },
        "46f9708450b8441795b5c10915324f00": {
          "model_module": "@jupyter-widgets/controls",
          "model_module_version": "1.5.0",
          "model_name": "HBoxModel",
          "state": {
            "_dom_classes": [],
            "_model_module": "@jupyter-widgets/controls",
            "_model_module_version": "1.5.0",
            "_model_name": "HBoxModel",
            "_view_count": null,
            "_view_module": "@jupyter-widgets/controls",
            "_view_module_version": "1.5.0",
            "_view_name": "HBoxView",
            "box_style": "",
            "children": [
              "IPY_MODEL_2e8b703e2600499690399d622331ef4a",
              "IPY_MODEL_ccbbb83a10014f24bf7b3b82fdeb1b80",
              "IPY_MODEL_da60e49a67b14ebeb5c577cf35ace928"
            ],
            "layout": "IPY_MODEL_66e87bbc3566460795d2f4b4672a7045"
          }
        },
        "47422a25c4844f6ca6fee62090e20552": {
          "model_module": "@jupyter-widgets/controls",
          "model_module_version": "1.5.0",
          "model_name": "DescriptionStyleModel",
          "state": {
            "_model_module": "@jupyter-widgets/controls",
            "_model_module_version": "1.5.0",
            "_model_name": "DescriptionStyleModel",
            "_view_count": null,
            "_view_module": "@jupyter-widgets/base",
            "_view_module_version": "1.2.0",
            "_view_name": "StyleView",
            "description_width": ""
          }
        },
        "47d88caadb6144fb81015425a9d0d742": {
          "model_module": "@jupyter-widgets/base",
          "model_module_version": "1.2.0",
          "model_name": "LayoutModel",
          "state": {
            "_model_module": "@jupyter-widgets/base",
            "_model_module_version": "1.2.0",
            "_model_name": "LayoutModel",
            "_view_count": null,
            "_view_module": "@jupyter-widgets/base",
            "_view_module_version": "1.2.0",
            "_view_name": "LayoutView",
            "align_content": null,
            "align_items": null,
            "align_self": null,
            "border": null,
            "bottom": null,
            "display": null,
            "flex": null,
            "flex_flow": null,
            "grid_area": null,
            "grid_auto_columns": null,
            "grid_auto_flow": null,
            "grid_auto_rows": null,
            "grid_column": null,
            "grid_gap": null,
            "grid_row": null,
            "grid_template_areas": null,
            "grid_template_columns": null,
            "grid_template_rows": null,
            "height": null,
            "justify_content": null,
            "justify_items": null,
            "left": null,
            "margin": null,
            "max_height": null,
            "max_width": null,
            "min_height": null,
            "min_width": null,
            "object_fit": null,
            "object_position": null,
            "order": null,
            "overflow": null,
            "overflow_x": null,
            "overflow_y": null,
            "padding": null,
            "right": null,
            "top": null,
            "visibility": null,
            "width": null
          }
        },
        "4ba1c8b8b69c40ca8be757568c48d991": {
          "model_module": "@jupyter-widgets/base",
          "model_module_version": "1.2.0",
          "model_name": "LayoutModel",
          "state": {
            "_model_module": "@jupyter-widgets/base",
            "_model_module_version": "1.2.0",
            "_model_name": "LayoutModel",
            "_view_count": null,
            "_view_module": "@jupyter-widgets/base",
            "_view_module_version": "1.2.0",
            "_view_name": "LayoutView",
            "align_content": null,
            "align_items": null,
            "align_self": null,
            "border": null,
            "bottom": null,
            "display": null,
            "flex": null,
            "flex_flow": null,
            "grid_area": null,
            "grid_auto_columns": null,
            "grid_auto_flow": null,
            "grid_auto_rows": null,
            "grid_column": null,
            "grid_gap": null,
            "grid_row": null,
            "grid_template_areas": null,
            "grid_template_columns": null,
            "grid_template_rows": null,
            "height": null,
            "justify_content": null,
            "justify_items": null,
            "left": null,
            "margin": null,
            "max_height": null,
            "max_width": null,
            "min_height": null,
            "min_width": null,
            "object_fit": null,
            "object_position": null,
            "order": null,
            "overflow": null,
            "overflow_x": null,
            "overflow_y": null,
            "padding": null,
            "right": null,
            "top": null,
            "visibility": null,
            "width": null
          }
        },
        "4c8b4ef1c8544689aa89ad0ecac9159f": {
          "model_module": "@jupyter-widgets/base",
          "model_module_version": "1.2.0",
          "model_name": "LayoutModel",
          "state": {
            "_model_module": "@jupyter-widgets/base",
            "_model_module_version": "1.2.0",
            "_model_name": "LayoutModel",
            "_view_count": null,
            "_view_module": "@jupyter-widgets/base",
            "_view_module_version": "1.2.0",
            "_view_name": "LayoutView",
            "align_content": null,
            "align_items": null,
            "align_self": null,
            "border": null,
            "bottom": null,
            "display": null,
            "flex": null,
            "flex_flow": null,
            "grid_area": null,
            "grid_auto_columns": null,
            "grid_auto_flow": null,
            "grid_auto_rows": null,
            "grid_column": null,
            "grid_gap": null,
            "grid_row": null,
            "grid_template_areas": null,
            "grid_template_columns": null,
            "grid_template_rows": null,
            "height": null,
            "justify_content": null,
            "justify_items": null,
            "left": null,
            "margin": null,
            "max_height": null,
            "max_width": null,
            "min_height": null,
            "min_width": null,
            "object_fit": null,
            "object_position": null,
            "order": null,
            "overflow": null,
            "overflow_x": null,
            "overflow_y": null,
            "padding": null,
            "right": null,
            "top": null,
            "visibility": null,
            "width": null
          }
        },
        "4d8604b6be194adfa980e3be80c31ee3": {
          "model_module": "@jupyter-widgets/base",
          "model_module_version": "1.2.0",
          "model_name": "LayoutModel",
          "state": {
            "_model_module": "@jupyter-widgets/base",
            "_model_module_version": "1.2.0",
            "_model_name": "LayoutModel",
            "_view_count": null,
            "_view_module": "@jupyter-widgets/base",
            "_view_module_version": "1.2.0",
            "_view_name": "LayoutView",
            "align_content": null,
            "align_items": null,
            "align_self": null,
            "border": null,
            "bottom": null,
            "display": null,
            "flex": null,
            "flex_flow": null,
            "grid_area": null,
            "grid_auto_columns": null,
            "grid_auto_flow": null,
            "grid_auto_rows": null,
            "grid_column": null,
            "grid_gap": null,
            "grid_row": null,
            "grid_template_areas": null,
            "grid_template_columns": null,
            "grid_template_rows": null,
            "height": null,
            "justify_content": null,
            "justify_items": null,
            "left": null,
            "margin": null,
            "max_height": null,
            "max_width": null,
            "min_height": null,
            "min_width": null,
            "object_fit": null,
            "object_position": null,
            "order": null,
            "overflow": null,
            "overflow_x": null,
            "overflow_y": null,
            "padding": null,
            "right": null,
            "top": null,
            "visibility": null,
            "width": null
          }
        },
        "4fb14b451eed42138f9a15b9cd03fd09": {
          "model_module": "@jupyter-widgets/base",
          "model_module_version": "1.2.0",
          "model_name": "LayoutModel",
          "state": {
            "_model_module": "@jupyter-widgets/base",
            "_model_module_version": "1.2.0",
            "_model_name": "LayoutModel",
            "_view_count": null,
            "_view_module": "@jupyter-widgets/base",
            "_view_module_version": "1.2.0",
            "_view_name": "LayoutView",
            "align_content": null,
            "align_items": null,
            "align_self": null,
            "border": null,
            "bottom": null,
            "display": null,
            "flex": null,
            "flex_flow": null,
            "grid_area": null,
            "grid_auto_columns": null,
            "grid_auto_flow": null,
            "grid_auto_rows": null,
            "grid_column": null,
            "grid_gap": null,
            "grid_row": null,
            "grid_template_areas": null,
            "grid_template_columns": null,
            "grid_template_rows": null,
            "height": null,
            "justify_content": null,
            "justify_items": null,
            "left": null,
            "margin": null,
            "max_height": null,
            "max_width": null,
            "min_height": null,
            "min_width": null,
            "object_fit": null,
            "object_position": null,
            "order": null,
            "overflow": null,
            "overflow_x": null,
            "overflow_y": null,
            "padding": null,
            "right": null,
            "top": null,
            "visibility": null,
            "width": null
          }
        },
        "5026ce941ecd48e0af679324af9862a7": {
          "model_module": "@jupyter-widgets/controls",
          "model_module_version": "1.5.0",
          "model_name": "DescriptionStyleModel",
          "state": {
            "_model_module": "@jupyter-widgets/controls",
            "_model_module_version": "1.5.0",
            "_model_name": "DescriptionStyleModel",
            "_view_count": null,
            "_view_module": "@jupyter-widgets/base",
            "_view_module_version": "1.2.0",
            "_view_name": "StyleView",
            "description_width": ""
          }
        },
        "53e1bdaa6b864447a260ff5d2119749e": {
          "model_module": "@jupyter-widgets/base",
          "model_module_version": "1.2.0",
          "model_name": "LayoutModel",
          "state": {
            "_model_module": "@jupyter-widgets/base",
            "_model_module_version": "1.2.0",
            "_model_name": "LayoutModel",
            "_view_count": null,
            "_view_module": "@jupyter-widgets/base",
            "_view_module_version": "1.2.0",
            "_view_name": "LayoutView",
            "align_content": null,
            "align_items": null,
            "align_self": null,
            "border": null,
            "bottom": null,
            "display": null,
            "flex": null,
            "flex_flow": null,
            "grid_area": null,
            "grid_auto_columns": null,
            "grid_auto_flow": null,
            "grid_auto_rows": null,
            "grid_column": null,
            "grid_gap": null,
            "grid_row": null,
            "grid_template_areas": null,
            "grid_template_columns": null,
            "grid_template_rows": null,
            "height": null,
            "justify_content": null,
            "justify_items": null,
            "left": null,
            "margin": null,
            "max_height": null,
            "max_width": null,
            "min_height": null,
            "min_width": null,
            "object_fit": null,
            "object_position": null,
            "order": null,
            "overflow": null,
            "overflow_x": null,
            "overflow_y": null,
            "padding": null,
            "right": null,
            "top": null,
            "visibility": null,
            "width": null
          }
        },
        "53e5a0cd427245ed881a541d47534897": {
          "model_module": "@jupyter-widgets/controls",
          "model_module_version": "1.5.0",
          "model_name": "DescriptionStyleModel",
          "state": {
            "_model_module": "@jupyter-widgets/controls",
            "_model_module_version": "1.5.0",
            "_model_name": "DescriptionStyleModel",
            "_view_count": null,
            "_view_module": "@jupyter-widgets/base",
            "_view_module_version": "1.2.0",
            "_view_name": "StyleView",
            "description_width": ""
          }
        },
        "5415f32f0f654e129d6a5a90577bfbb5": {
          "model_module": "@jupyter-widgets/controls",
          "model_module_version": "1.5.0",
          "model_name": "ProgressStyleModel",
          "state": {
            "_model_module": "@jupyter-widgets/controls",
            "_model_module_version": "1.5.0",
            "_model_name": "ProgressStyleModel",
            "_view_count": null,
            "_view_module": "@jupyter-widgets/base",
            "_view_module_version": "1.2.0",
            "_view_name": "StyleView",
            "bar_color": null,
            "description_width": ""
          }
        },
        "56773e6a02e04c19baee0fe82912a762": {
          "model_module": "@jupyter-widgets/base",
          "model_module_version": "1.2.0",
          "model_name": "LayoutModel",
          "state": {
            "_model_module": "@jupyter-widgets/base",
            "_model_module_version": "1.2.0",
            "_model_name": "LayoutModel",
            "_view_count": null,
            "_view_module": "@jupyter-widgets/base",
            "_view_module_version": "1.2.0",
            "_view_name": "LayoutView",
            "align_content": null,
            "align_items": null,
            "align_self": null,
            "border": null,
            "bottom": null,
            "display": null,
            "flex": null,
            "flex_flow": null,
            "grid_area": null,
            "grid_auto_columns": null,
            "grid_auto_flow": null,
            "grid_auto_rows": null,
            "grid_column": null,
            "grid_gap": null,
            "grid_row": null,
            "grid_template_areas": null,
            "grid_template_columns": null,
            "grid_template_rows": null,
            "height": null,
            "justify_content": null,
            "justify_items": null,
            "left": null,
            "margin": null,
            "max_height": null,
            "max_width": null,
            "min_height": null,
            "min_width": null,
            "object_fit": null,
            "object_position": null,
            "order": null,
            "overflow": null,
            "overflow_x": null,
            "overflow_y": null,
            "padding": null,
            "right": null,
            "top": null,
            "visibility": null,
            "width": null
          }
        },
        "637ff77b85b440859b415559fdd73ab5": {
          "model_module": "@jupyter-widgets/base",
          "model_module_version": "1.2.0",
          "model_name": "LayoutModel",
          "state": {
            "_model_module": "@jupyter-widgets/base",
            "_model_module_version": "1.2.0",
            "_model_name": "LayoutModel",
            "_view_count": null,
            "_view_module": "@jupyter-widgets/base",
            "_view_module_version": "1.2.0",
            "_view_name": "LayoutView",
            "align_content": null,
            "align_items": null,
            "align_self": null,
            "border": null,
            "bottom": null,
            "display": null,
            "flex": null,
            "flex_flow": null,
            "grid_area": null,
            "grid_auto_columns": null,
            "grid_auto_flow": null,
            "grid_auto_rows": null,
            "grid_column": null,
            "grid_gap": null,
            "grid_row": null,
            "grid_template_areas": null,
            "grid_template_columns": null,
            "grid_template_rows": null,
            "height": null,
            "justify_content": null,
            "justify_items": null,
            "left": null,
            "margin": null,
            "max_height": null,
            "max_width": null,
            "min_height": null,
            "min_width": null,
            "object_fit": null,
            "object_position": null,
            "order": null,
            "overflow": null,
            "overflow_x": null,
            "overflow_y": null,
            "padding": null,
            "right": null,
            "top": null,
            "visibility": null,
            "width": null
          }
        },
        "6594edb376a743d5981b34f509a18405": {
          "model_module": "@jupyter-widgets/controls",
          "model_module_version": "1.5.0",
          "model_name": "HTMLModel",
          "state": {
            "_dom_classes": [],
            "_model_module": "@jupyter-widgets/controls",
            "_model_module_version": "1.5.0",
            "_model_name": "HTMLModel",
            "_view_count": null,
            "_view_module": "@jupyter-widgets/controls",
            "_view_module_version": "1.5.0",
            "_view_name": "HTMLView",
            "description": "",
            "description_tooltip": null,
            "layout": "IPY_MODEL_c3f98a12d59348bcbd634e6f9cbed39e",
            "placeholder": "​",
            "style": "IPY_MODEL_0e9f4dc81aa14e29b30c85af753b8eff",
            "value": " 1000/1000 [00:00&lt;00:00, 4751.72it/s]"
          }
        },
        "66e87bbc3566460795d2f4b4672a7045": {
          "model_module": "@jupyter-widgets/base",
          "model_module_version": "1.2.0",
          "model_name": "LayoutModel",
          "state": {
            "_model_module": "@jupyter-widgets/base",
            "_model_module_version": "1.2.0",
            "_model_name": "LayoutModel",
            "_view_count": null,
            "_view_module": "@jupyter-widgets/base",
            "_view_module_version": "1.2.0",
            "_view_name": "LayoutView",
            "align_content": null,
            "align_items": null,
            "align_self": null,
            "border": null,
            "bottom": null,
            "display": null,
            "flex": null,
            "flex_flow": null,
            "grid_area": null,
            "grid_auto_columns": null,
            "grid_auto_flow": null,
            "grid_auto_rows": null,
            "grid_column": null,
            "grid_gap": null,
            "grid_row": null,
            "grid_template_areas": null,
            "grid_template_columns": null,
            "grid_template_rows": null,
            "height": null,
            "justify_content": null,
            "justify_items": null,
            "left": null,
            "margin": null,
            "max_height": null,
            "max_width": null,
            "min_height": null,
            "min_width": null,
            "object_fit": null,
            "object_position": null,
            "order": null,
            "overflow": null,
            "overflow_x": null,
            "overflow_y": null,
            "padding": null,
            "right": null,
            "top": null,
            "visibility": null,
            "width": null
          }
        },
        "67d8dfa24e1442b49655c03a5e46ef56": {
          "model_module": "@jupyter-widgets/base",
          "model_module_version": "1.2.0",
          "model_name": "LayoutModel",
          "state": {
            "_model_module": "@jupyter-widgets/base",
            "_model_module_version": "1.2.0",
            "_model_name": "LayoutModel",
            "_view_count": null,
            "_view_module": "@jupyter-widgets/base",
            "_view_module_version": "1.2.0",
            "_view_name": "LayoutView",
            "align_content": null,
            "align_items": null,
            "align_self": null,
            "border": null,
            "bottom": null,
            "display": null,
            "flex": null,
            "flex_flow": null,
            "grid_area": null,
            "grid_auto_columns": null,
            "grid_auto_flow": null,
            "grid_auto_rows": null,
            "grid_column": null,
            "grid_gap": null,
            "grid_row": null,
            "grid_template_areas": null,
            "grid_template_columns": null,
            "grid_template_rows": null,
            "height": null,
            "justify_content": null,
            "justify_items": null,
            "left": null,
            "margin": null,
            "max_height": null,
            "max_width": null,
            "min_height": null,
            "min_width": null,
            "object_fit": null,
            "object_position": null,
            "order": null,
            "overflow": null,
            "overflow_x": null,
            "overflow_y": null,
            "padding": null,
            "right": null,
            "top": null,
            "visibility": null,
            "width": null
          }
        },
        "6a6f6141cbf847e4b7c5ab8613979049": {
          "model_module": "@jupyter-widgets/controls",
          "model_module_version": "1.5.0",
          "model_name": "ProgressStyleModel",
          "state": {
            "_model_module": "@jupyter-widgets/controls",
            "_model_module_version": "1.5.0",
            "_model_name": "ProgressStyleModel",
            "_view_count": null,
            "_view_module": "@jupyter-widgets/base",
            "_view_module_version": "1.2.0",
            "_view_name": "StyleView",
            "bar_color": null,
            "description_width": ""
          }
        },
        "6b6697754c044e4b91d667ef21806eab": {
          "model_module": "@jupyter-widgets/controls",
          "model_module_version": "1.5.0",
          "model_name": "FloatProgressModel",
          "state": {
            "_dom_classes": [],
            "_model_module": "@jupyter-widgets/controls",
            "_model_module_version": "1.5.0",
            "_model_name": "FloatProgressModel",
            "_view_count": null,
            "_view_module": "@jupyter-widgets/controls",
            "_view_module_version": "1.5.0",
            "_view_name": "ProgressView",
            "bar_style": "success",
            "description": "",
            "description_tooltip": null,
            "layout": "IPY_MODEL_4ba1c8b8b69c40ca8be757568c48d991",
            "max": 3925,
            "min": 0,
            "orientation": "horizontal",
            "style": "IPY_MODEL_f208b555a0484a3f93faf065da5c3e41",
            "value": 3925
          }
        },
        "6b71e98bf277464ba303af84a4dccda4": {
          "model_module": "@jupyter-widgets/base",
          "model_module_version": "1.2.0",
          "model_name": "LayoutModel",
          "state": {
            "_model_module": "@jupyter-widgets/base",
            "_model_module_version": "1.2.0",
            "_model_name": "LayoutModel",
            "_view_count": null,
            "_view_module": "@jupyter-widgets/base",
            "_view_module_version": "1.2.0",
            "_view_name": "LayoutView",
            "align_content": null,
            "align_items": null,
            "align_self": null,
            "border": null,
            "bottom": null,
            "display": null,
            "flex": null,
            "flex_flow": null,
            "grid_area": null,
            "grid_auto_columns": null,
            "grid_auto_flow": null,
            "grid_auto_rows": null,
            "grid_column": null,
            "grid_gap": null,
            "grid_row": null,
            "grid_template_areas": null,
            "grid_template_columns": null,
            "grid_template_rows": null,
            "height": null,
            "justify_content": null,
            "justify_items": null,
            "left": null,
            "margin": null,
            "max_height": null,
            "max_width": null,
            "min_height": null,
            "min_width": null,
            "object_fit": null,
            "object_position": null,
            "order": null,
            "overflow": null,
            "overflow_x": null,
            "overflow_y": null,
            "padding": null,
            "right": null,
            "top": null,
            "visibility": null,
            "width": null
          }
        },
        "6d9a38d971284bef85f71f5ce8e8a7b6": {
          "model_module": "@jupyter-widgets/base",
          "model_module_version": "1.2.0",
          "model_name": "LayoutModel",
          "state": {
            "_model_module": "@jupyter-widgets/base",
            "_model_module_version": "1.2.0",
            "_model_name": "LayoutModel",
            "_view_count": null,
            "_view_module": "@jupyter-widgets/base",
            "_view_module_version": "1.2.0",
            "_view_name": "LayoutView",
            "align_content": null,
            "align_items": null,
            "align_self": null,
            "border": null,
            "bottom": null,
            "display": null,
            "flex": null,
            "flex_flow": null,
            "grid_area": null,
            "grid_auto_columns": null,
            "grid_auto_flow": null,
            "grid_auto_rows": null,
            "grid_column": null,
            "grid_gap": null,
            "grid_row": null,
            "grid_template_areas": null,
            "grid_template_columns": null,
            "grid_template_rows": null,
            "height": null,
            "justify_content": null,
            "justify_items": null,
            "left": null,
            "margin": null,
            "max_height": null,
            "max_width": null,
            "min_height": null,
            "min_width": null,
            "object_fit": null,
            "object_position": null,
            "order": null,
            "overflow": null,
            "overflow_x": null,
            "overflow_y": null,
            "padding": null,
            "right": null,
            "top": null,
            "visibility": null,
            "width": null
          }
        },
        "782415e5ca664f879d9ad31a14eef364": {
          "model_module": "@jupyter-widgets/base",
          "model_module_version": "1.2.0",
          "model_name": "LayoutModel",
          "state": {
            "_model_module": "@jupyter-widgets/base",
            "_model_module_version": "1.2.0",
            "_model_name": "LayoutModel",
            "_view_count": null,
            "_view_module": "@jupyter-widgets/base",
            "_view_module_version": "1.2.0",
            "_view_name": "LayoutView",
            "align_content": null,
            "align_items": null,
            "align_self": null,
            "border": null,
            "bottom": null,
            "display": null,
            "flex": null,
            "flex_flow": null,
            "grid_area": null,
            "grid_auto_columns": null,
            "grid_auto_flow": null,
            "grid_auto_rows": null,
            "grid_column": null,
            "grid_gap": null,
            "grid_row": null,
            "grid_template_areas": null,
            "grid_template_columns": null,
            "grid_template_rows": null,
            "height": null,
            "justify_content": null,
            "justify_items": null,
            "left": null,
            "margin": null,
            "max_height": null,
            "max_width": null,
            "min_height": null,
            "min_width": null,
            "object_fit": null,
            "object_position": null,
            "order": null,
            "overflow": null,
            "overflow_x": null,
            "overflow_y": null,
            "padding": null,
            "right": null,
            "top": null,
            "visibility": null,
            "width": null
          }
        },
        "7cdf7178668e4a3b8d6a749ef940c008": {
          "model_module": "@jupyter-widgets/controls",
          "model_module_version": "1.5.0",
          "model_name": "DescriptionStyleModel",
          "state": {
            "_model_module": "@jupyter-widgets/controls",
            "_model_module_version": "1.5.0",
            "_model_name": "DescriptionStyleModel",
            "_view_count": null,
            "_view_module": "@jupyter-widgets/base",
            "_view_module_version": "1.2.0",
            "_view_name": "StyleView",
            "description_width": ""
          }
        },
        "7e9ed109427149c8a33b84e3b36f2edf": {
          "model_module": "@jupyter-widgets/controls",
          "model_module_version": "1.5.0",
          "model_name": "ProgressStyleModel",
          "state": {
            "_model_module": "@jupyter-widgets/controls",
            "_model_module_version": "1.5.0",
            "_model_name": "ProgressStyleModel",
            "_view_count": null,
            "_view_module": "@jupyter-widgets/base",
            "_view_module_version": "1.2.0",
            "_view_name": "StyleView",
            "bar_color": null,
            "description_width": ""
          }
        },
        "7fbf8ed432ab40539c4f78276b14105f": {
          "model_module": "@jupyter-widgets/controls",
          "model_module_version": "1.5.0",
          "model_name": "FloatProgressModel",
          "state": {
            "_dom_classes": [],
            "_model_module": "@jupyter-widgets/controls",
            "_model_module_version": "1.5.0",
            "_model_name": "FloatProgressModel",
            "_view_count": null,
            "_view_module": "@jupyter-widgets/controls",
            "_view_module_version": "1.5.0",
            "_view_name": "ProgressView",
            "bar_style": "success",
            "description": "",
            "description_tooltip": null,
            "layout": "IPY_MODEL_c49e7c1998dd4c39ab724e363e57182d",
            "max": 9469,
            "min": 0,
            "orientation": "horizontal",
            "style": "IPY_MODEL_a20d88b40da84a29b7c967732200ba7e",
            "value": 9469
          }
        },
        "815facc28fbb4cd68fe1dd8774a0aa4d": {
          "model_module": "@jupyter-widgets/controls",
          "model_module_version": "1.5.0",
          "model_name": "DescriptionStyleModel",
          "state": {
            "_model_module": "@jupyter-widgets/controls",
            "_model_module_version": "1.5.0",
            "_model_name": "DescriptionStyleModel",
            "_view_count": null,
            "_view_module": "@jupyter-widgets/base",
            "_view_module_version": "1.2.0",
            "_view_name": "StyleView",
            "description_width": ""
          }
        },
        "83753d0c5d26408aac22bc373cd5b600": {
          "model_module": "@jupyter-widgets/base",
          "model_module_version": "1.2.0",
          "model_name": "LayoutModel",
          "state": {
            "_model_module": "@jupyter-widgets/base",
            "_model_module_version": "1.2.0",
            "_model_name": "LayoutModel",
            "_view_count": null,
            "_view_module": "@jupyter-widgets/base",
            "_view_module_version": "1.2.0",
            "_view_name": "LayoutView",
            "align_content": null,
            "align_items": null,
            "align_self": null,
            "border": null,
            "bottom": null,
            "display": null,
            "flex": null,
            "flex_flow": null,
            "grid_area": null,
            "grid_auto_columns": null,
            "grid_auto_flow": null,
            "grid_auto_rows": null,
            "grid_column": null,
            "grid_gap": null,
            "grid_row": null,
            "grid_template_areas": null,
            "grid_template_columns": null,
            "grid_template_rows": null,
            "height": null,
            "justify_content": null,
            "justify_items": null,
            "left": null,
            "margin": null,
            "max_height": null,
            "max_width": null,
            "min_height": null,
            "min_width": null,
            "object_fit": null,
            "object_position": null,
            "order": null,
            "overflow": null,
            "overflow_x": null,
            "overflow_y": null,
            "padding": null,
            "right": null,
            "top": null,
            "visibility": null,
            "width": null
          }
        },
        "8409a58de80c47498a0ef6bf04885d42": {
          "model_module": "@jupyter-widgets/controls",
          "model_module_version": "1.5.0",
          "model_name": "HTMLModel",
          "state": {
            "_dom_classes": [],
            "_model_module": "@jupyter-widgets/controls",
            "_model_module_version": "1.5.0",
            "_model_name": "HTMLModel",
            "_view_count": null,
            "_view_module": "@jupyter-widgets/controls",
            "_view_module_version": "1.5.0",
            "_view_name": "HTMLView",
            "description": "",
            "description_tooltip": null,
            "layout": "IPY_MODEL_67d8dfa24e1442b49655c03a5e46ef56",
            "placeholder": "​",
            "style": "IPY_MODEL_88220d7364ae4382b7f562a1add22173",
            "value": " 1000/1000 [00:00&lt;00:00, 3902.63it/s]"
          }
        },
        "85d8f063afe349e0aded085fbc3608ac": {
          "model_module": "@jupyter-widgets/controls",
          "model_module_version": "1.5.0",
          "model_name": "ProgressStyleModel",
          "state": {
            "_model_module": "@jupyter-widgets/controls",
            "_model_module_version": "1.5.0",
            "_model_name": "ProgressStyleModel",
            "_view_count": null,
            "_view_module": "@jupyter-widgets/base",
            "_view_module_version": "1.2.0",
            "_view_name": "StyleView",
            "bar_color": null,
            "description_width": ""
          }
        },
        "88220d7364ae4382b7f562a1add22173": {
          "model_module": "@jupyter-widgets/controls",
          "model_module_version": "1.5.0",
          "model_name": "DescriptionStyleModel",
          "state": {
            "_model_module": "@jupyter-widgets/controls",
            "_model_module_version": "1.5.0",
            "_model_name": "DescriptionStyleModel",
            "_view_count": null,
            "_view_module": "@jupyter-widgets/base",
            "_view_module_version": "1.2.0",
            "_view_name": "StyleView",
            "description_width": ""
          }
        },
        "882aa1b9f5604b8bb14ac32110afa983": {
          "model_module": "@jupyter-widgets/controls",
          "model_module_version": "1.5.0",
          "model_name": "DescriptionStyleModel",
          "state": {
            "_model_module": "@jupyter-widgets/controls",
            "_model_module_version": "1.5.0",
            "_model_name": "DescriptionStyleModel",
            "_view_count": null,
            "_view_module": "@jupyter-widgets/base",
            "_view_module_version": "1.2.0",
            "_view_name": "StyleView",
            "description_width": ""
          }
        },
        "89915ef2143d448e922cc59a81e4c1e9": {
          "model_module": "@jupyter-widgets/base",
          "model_module_version": "1.2.0",
          "model_name": "LayoutModel",
          "state": {
            "_model_module": "@jupyter-widgets/base",
            "_model_module_version": "1.2.0",
            "_model_name": "LayoutModel",
            "_view_count": null,
            "_view_module": "@jupyter-widgets/base",
            "_view_module_version": "1.2.0",
            "_view_name": "LayoutView",
            "align_content": null,
            "align_items": null,
            "align_self": null,
            "border": null,
            "bottom": null,
            "display": null,
            "flex": null,
            "flex_flow": null,
            "grid_area": null,
            "grid_auto_columns": null,
            "grid_auto_flow": null,
            "grid_auto_rows": null,
            "grid_column": null,
            "grid_gap": null,
            "grid_row": null,
            "grid_template_areas": null,
            "grid_template_columns": null,
            "grid_template_rows": null,
            "height": null,
            "justify_content": null,
            "justify_items": null,
            "left": null,
            "margin": null,
            "max_height": null,
            "max_width": null,
            "min_height": null,
            "min_width": null,
            "object_fit": null,
            "object_position": null,
            "order": null,
            "overflow": null,
            "overflow_x": null,
            "overflow_y": null,
            "padding": null,
            "right": null,
            "top": null,
            "visibility": null,
            "width": null
          }
        },
        "8a0c5c3c9aa6442e96ee095b40ac6ea9": {
          "model_module": "@jupyter-widgets/base",
          "model_module_version": "1.2.0",
          "model_name": "LayoutModel",
          "state": {
            "_model_module": "@jupyter-widgets/base",
            "_model_module_version": "1.2.0",
            "_model_name": "LayoutModel",
            "_view_count": null,
            "_view_module": "@jupyter-widgets/base",
            "_view_module_version": "1.2.0",
            "_view_name": "LayoutView",
            "align_content": null,
            "align_items": null,
            "align_self": null,
            "border": null,
            "bottom": null,
            "display": null,
            "flex": null,
            "flex_flow": null,
            "grid_area": null,
            "grid_auto_columns": null,
            "grid_auto_flow": null,
            "grid_auto_rows": null,
            "grid_column": null,
            "grid_gap": null,
            "grid_row": null,
            "grid_template_areas": null,
            "grid_template_columns": null,
            "grid_template_rows": null,
            "height": null,
            "justify_content": null,
            "justify_items": null,
            "left": null,
            "margin": null,
            "max_height": null,
            "max_width": null,
            "min_height": null,
            "min_width": null,
            "object_fit": null,
            "object_position": null,
            "order": null,
            "overflow": null,
            "overflow_x": null,
            "overflow_y": null,
            "padding": null,
            "right": null,
            "top": null,
            "visibility": null,
            "width": null
          }
        },
        "8c1dc6e701aa4012b4dcf45cf7a6e458": {
          "model_module": "@jupyter-widgets/controls",
          "model_module_version": "1.5.0",
          "model_name": "DescriptionStyleModel",
          "state": {
            "_model_module": "@jupyter-widgets/controls",
            "_model_module_version": "1.5.0",
            "_model_name": "DescriptionStyleModel",
            "_view_count": null,
            "_view_module": "@jupyter-widgets/base",
            "_view_module_version": "1.2.0",
            "_view_name": "StyleView",
            "description_width": ""
          }
        },
        "90725cfd4f7d474f9c1f332a4ec5a543": {
          "model_module": "@jupyter-widgets/controls",
          "model_module_version": "1.5.0",
          "model_name": "DescriptionStyleModel",
          "state": {
            "_model_module": "@jupyter-widgets/controls",
            "_model_module_version": "1.5.0",
            "_model_name": "DescriptionStyleModel",
            "_view_count": null,
            "_view_module": "@jupyter-widgets/base",
            "_view_module_version": "1.2.0",
            "_view_name": "StyleView",
            "description_width": ""
          }
        },
        "926aeec34faa44ce87a30b6fa8d29f81": {
          "model_module": "@jupyter-widgets/base",
          "model_module_version": "1.2.0",
          "model_name": "LayoutModel",
          "state": {
            "_model_module": "@jupyter-widgets/base",
            "_model_module_version": "1.2.0",
            "_model_name": "LayoutModel",
            "_view_count": null,
            "_view_module": "@jupyter-widgets/base",
            "_view_module_version": "1.2.0",
            "_view_name": "LayoutView",
            "align_content": null,
            "align_items": null,
            "align_self": null,
            "border": null,
            "bottom": null,
            "display": null,
            "flex": null,
            "flex_flow": null,
            "grid_area": null,
            "grid_auto_columns": null,
            "grid_auto_flow": null,
            "grid_auto_rows": null,
            "grid_column": null,
            "grid_gap": null,
            "grid_row": null,
            "grid_template_areas": null,
            "grid_template_columns": null,
            "grid_template_rows": null,
            "height": null,
            "justify_content": null,
            "justify_items": null,
            "left": null,
            "margin": null,
            "max_height": null,
            "max_width": null,
            "min_height": null,
            "min_width": null,
            "object_fit": null,
            "object_position": null,
            "order": null,
            "overflow": null,
            "overflow_x": null,
            "overflow_y": null,
            "padding": null,
            "right": null,
            "top": null,
            "visibility": null,
            "width": null
          }
        },
        "92cc308b743f4ab1a9191586e56d8406": {
          "model_module": "@jupyter-widgets/base",
          "model_module_version": "1.2.0",
          "model_name": "LayoutModel",
          "state": {
            "_model_module": "@jupyter-widgets/base",
            "_model_module_version": "1.2.0",
            "_model_name": "LayoutModel",
            "_view_count": null,
            "_view_module": "@jupyter-widgets/base",
            "_view_module_version": "1.2.0",
            "_view_name": "LayoutView",
            "align_content": null,
            "align_items": null,
            "align_self": null,
            "border": null,
            "bottom": null,
            "display": null,
            "flex": null,
            "flex_flow": null,
            "grid_area": null,
            "grid_auto_columns": null,
            "grid_auto_flow": null,
            "grid_auto_rows": null,
            "grid_column": null,
            "grid_gap": null,
            "grid_row": null,
            "grid_template_areas": null,
            "grid_template_columns": null,
            "grid_template_rows": null,
            "height": null,
            "justify_content": null,
            "justify_items": null,
            "left": null,
            "margin": null,
            "max_height": null,
            "max_width": null,
            "min_height": null,
            "min_width": null,
            "object_fit": null,
            "object_position": null,
            "order": null,
            "overflow": null,
            "overflow_x": null,
            "overflow_y": null,
            "padding": null,
            "right": null,
            "top": null,
            "visibility": null,
            "width": null
          }
        },
        "95708c0fbfd84c1eb5d781198754d4d7": {
          "model_module": "@jupyter-widgets/base",
          "model_module_version": "1.2.0",
          "model_name": "LayoutModel",
          "state": {
            "_model_module": "@jupyter-widgets/base",
            "_model_module_version": "1.2.0",
            "_model_name": "LayoutModel",
            "_view_count": null,
            "_view_module": "@jupyter-widgets/base",
            "_view_module_version": "1.2.0",
            "_view_name": "LayoutView",
            "align_content": null,
            "align_items": null,
            "align_self": null,
            "border": null,
            "bottom": null,
            "display": null,
            "flex": null,
            "flex_flow": null,
            "grid_area": null,
            "grid_auto_columns": null,
            "grid_auto_flow": null,
            "grid_auto_rows": null,
            "grid_column": null,
            "grid_gap": null,
            "grid_row": null,
            "grid_template_areas": null,
            "grid_template_columns": null,
            "grid_template_rows": null,
            "height": null,
            "justify_content": null,
            "justify_items": null,
            "left": null,
            "margin": null,
            "max_height": null,
            "max_width": null,
            "min_height": null,
            "min_width": null,
            "object_fit": null,
            "object_position": null,
            "order": null,
            "overflow": null,
            "overflow_x": null,
            "overflow_y": null,
            "padding": null,
            "right": null,
            "top": null,
            "visibility": null,
            "width": null
          }
        },
        "97855c44480848e0845741f7a065b0be": {
          "model_module": "@jupyter-widgets/controls",
          "model_module_version": "1.5.0",
          "model_name": "HTMLModel",
          "state": {
            "_dom_classes": [],
            "_model_module": "@jupyter-widgets/controls",
            "_model_module_version": "1.5.0",
            "_model_name": "HTMLModel",
            "_view_count": null,
            "_view_module": "@jupyter-widgets/controls",
            "_view_module_version": "1.5.0",
            "_view_name": "HTMLView",
            "description": "",
            "description_tooltip": null,
            "layout": "IPY_MODEL_ad7f6e5244f04638956bd14f6465d82f",
            "placeholder": "​",
            "style": "IPY_MODEL_aded95fb85ca4a989bd1eff82aafed88",
            "value": "Downloading data: 100%"
          }
        },
        "9d46548058c248fabd526f6c92cf14e4": {
          "model_module": "@jupyter-widgets/controls",
          "model_module_version": "1.5.0",
          "model_name": "HBoxModel",
          "state": {
            "_dom_classes": [],
            "_model_module": "@jupyter-widgets/controls",
            "_model_module_version": "1.5.0",
            "_model_name": "HBoxModel",
            "_view_count": null,
            "_view_module": "@jupyter-widgets/controls",
            "_view_module_version": "1.5.0",
            "_view_name": "HBoxView",
            "box_style": "",
            "children": [
              "IPY_MODEL_c5c63e310f0f4f84867ada97dfd80456",
              "IPY_MODEL_ae2aeb8e4e4b4cf084b7e2de6552a0b8",
              "IPY_MODEL_8409a58de80c47498a0ef6bf04885d42"
            ],
            "layout": "IPY_MODEL_c2d8d583e16b4f8aaf9820f359c584ef"
          }
        },
        "9e2d114cb04741eda436711d5d54cbd3": {
          "model_module": "@jupyter-widgets/controls",
          "model_module_version": "1.5.0",
          "model_name": "HTMLModel",
          "state": {
            "_dom_classes": [],
            "_model_module": "@jupyter-widgets/controls",
            "_model_module_version": "1.5.0",
            "_model_name": "HTMLModel",
            "_view_count": null,
            "_view_module": "@jupyter-widgets/controls",
            "_view_module_version": "1.5.0",
            "_view_name": "HTMLView",
            "description": "",
            "description_tooltip": null,
            "layout": "IPY_MODEL_56773e6a02e04c19baee0fe82912a762",
            "placeholder": "​",
            "style": "IPY_MODEL_467a2c2de8ec47d38c74dfedb5c54363",
            "value": "100%"
          }
        },
        "a20d88b40da84a29b7c967732200ba7e": {
          "model_module": "@jupyter-widgets/controls",
          "model_module_version": "1.5.0",
          "model_name": "ProgressStyleModel",
          "state": {
            "_model_module": "@jupyter-widgets/controls",
            "_model_module_version": "1.5.0",
            "_model_name": "ProgressStyleModel",
            "_view_count": null,
            "_view_module": "@jupyter-widgets/base",
            "_view_module_version": "1.2.0",
            "_view_name": "StyleView",
            "bar_color": null,
            "description_width": ""
          }
        },
        "a684da8871324472934ee47281b31e84": {
          "model_module": "@jupyter-widgets/controls",
          "model_module_version": "1.5.0",
          "model_name": "HBoxModel",
          "state": {
            "_dom_classes": [],
            "_model_module": "@jupyter-widgets/controls",
            "_model_module_version": "1.5.0",
            "_model_name": "HBoxModel",
            "_view_count": null,
            "_view_module": "@jupyter-widgets/controls",
            "_view_module_version": "1.5.0",
            "_view_name": "HBoxView",
            "box_style": "",
            "children": [
              "IPY_MODEL_f047e257fba04e01b794f09b647bd0ff",
              "IPY_MODEL_caeac1996d47437fb9239df5fcd10df1",
              "IPY_MODEL_1a83a7d8cd0d4ca88fc9c9258925b33c"
            ],
            "layout": "IPY_MODEL_cc974e384805414e9556c6fc5841b8e1"
          }
        },
        "a900f77748c843469a8f985d77fcb1c3": {
          "model_module": "@jupyter-widgets/base",
          "model_module_version": "1.2.0",
          "model_name": "LayoutModel",
          "state": {
            "_model_module": "@jupyter-widgets/base",
            "_model_module_version": "1.2.0",
            "_model_name": "LayoutModel",
            "_view_count": null,
            "_view_module": "@jupyter-widgets/base",
            "_view_module_version": "1.2.0",
            "_view_name": "LayoutView",
            "align_content": null,
            "align_items": null,
            "align_self": null,
            "border": null,
            "bottom": null,
            "display": null,
            "flex": null,
            "flex_flow": null,
            "grid_area": null,
            "grid_auto_columns": null,
            "grid_auto_flow": null,
            "grid_auto_rows": null,
            "grid_column": null,
            "grid_gap": null,
            "grid_row": null,
            "grid_template_areas": null,
            "grid_template_columns": null,
            "grid_template_rows": null,
            "height": null,
            "justify_content": null,
            "justify_items": null,
            "left": null,
            "margin": null,
            "max_height": null,
            "max_width": null,
            "min_height": null,
            "min_width": null,
            "object_fit": null,
            "object_position": null,
            "order": null,
            "overflow": null,
            "overflow_x": null,
            "overflow_y": null,
            "padding": null,
            "right": null,
            "top": null,
            "visibility": null,
            "width": null
          }
        },
        "a9992fadb5a245f9805aa2bbe3a4745b": {
          "model_module": "@jupyter-widgets/base",
          "model_module_version": "1.2.0",
          "model_name": "LayoutModel",
          "state": {
            "_model_module": "@jupyter-widgets/base",
            "_model_module_version": "1.2.0",
            "_model_name": "LayoutModel",
            "_view_count": null,
            "_view_module": "@jupyter-widgets/base",
            "_view_module_version": "1.2.0",
            "_view_name": "LayoutView",
            "align_content": null,
            "align_items": null,
            "align_self": null,
            "border": null,
            "bottom": null,
            "display": null,
            "flex": null,
            "flex_flow": null,
            "grid_area": null,
            "grid_auto_columns": null,
            "grid_auto_flow": null,
            "grid_auto_rows": null,
            "grid_column": null,
            "grid_gap": null,
            "grid_row": null,
            "grid_template_areas": null,
            "grid_template_columns": null,
            "grid_template_rows": null,
            "height": null,
            "justify_content": null,
            "justify_items": null,
            "left": null,
            "margin": null,
            "max_height": null,
            "max_width": null,
            "min_height": null,
            "min_width": null,
            "object_fit": null,
            "object_position": null,
            "order": null,
            "overflow": null,
            "overflow_x": null,
            "overflow_y": null,
            "padding": null,
            "right": null,
            "top": null,
            "visibility": null,
            "width": null
          }
        },
        "ad1a9e9cd5f74a56bbd5c775abd49b28": {
          "model_module": "@jupyter-widgets/base",
          "model_module_version": "1.2.0",
          "model_name": "LayoutModel",
          "state": {
            "_model_module": "@jupyter-widgets/base",
            "_model_module_version": "1.2.0",
            "_model_name": "LayoutModel",
            "_view_count": null,
            "_view_module": "@jupyter-widgets/base",
            "_view_module_version": "1.2.0",
            "_view_name": "LayoutView",
            "align_content": null,
            "align_items": null,
            "align_self": null,
            "border": null,
            "bottom": null,
            "display": null,
            "flex": null,
            "flex_flow": null,
            "grid_area": null,
            "grid_auto_columns": null,
            "grid_auto_flow": null,
            "grid_auto_rows": null,
            "grid_column": null,
            "grid_gap": null,
            "grid_row": null,
            "grid_template_areas": null,
            "grid_template_columns": null,
            "grid_template_rows": null,
            "height": null,
            "justify_content": null,
            "justify_items": null,
            "left": null,
            "margin": null,
            "max_height": null,
            "max_width": null,
            "min_height": null,
            "min_width": null,
            "object_fit": null,
            "object_position": null,
            "order": null,
            "overflow": null,
            "overflow_x": null,
            "overflow_y": null,
            "padding": null,
            "right": null,
            "top": null,
            "visibility": null,
            "width": null
          }
        },
        "ad7f6e5244f04638956bd14f6465d82f": {
          "model_module": "@jupyter-widgets/base",
          "model_module_version": "1.2.0",
          "model_name": "LayoutModel",
          "state": {
            "_model_module": "@jupyter-widgets/base",
            "_model_module_version": "1.2.0",
            "_model_name": "LayoutModel",
            "_view_count": null,
            "_view_module": "@jupyter-widgets/base",
            "_view_module_version": "1.2.0",
            "_view_name": "LayoutView",
            "align_content": null,
            "align_items": null,
            "align_self": null,
            "border": null,
            "bottom": null,
            "display": null,
            "flex": null,
            "flex_flow": null,
            "grid_area": null,
            "grid_auto_columns": null,
            "grid_auto_flow": null,
            "grid_auto_rows": null,
            "grid_column": null,
            "grid_gap": null,
            "grid_row": null,
            "grid_template_areas": null,
            "grid_template_columns": null,
            "grid_template_rows": null,
            "height": null,
            "justify_content": null,
            "justify_items": null,
            "left": null,
            "margin": null,
            "max_height": null,
            "max_width": null,
            "min_height": null,
            "min_width": null,
            "object_fit": null,
            "object_position": null,
            "order": null,
            "overflow": null,
            "overflow_x": null,
            "overflow_y": null,
            "padding": null,
            "right": null,
            "top": null,
            "visibility": null,
            "width": null
          }
        },
        "aded95fb85ca4a989bd1eff82aafed88": {
          "model_module": "@jupyter-widgets/controls",
          "model_module_version": "1.5.0",
          "model_name": "DescriptionStyleModel",
          "state": {
            "_model_module": "@jupyter-widgets/controls",
            "_model_module_version": "1.5.0",
            "_model_name": "DescriptionStyleModel",
            "_view_count": null,
            "_view_module": "@jupyter-widgets/base",
            "_view_module_version": "1.2.0",
            "_view_name": "StyleView",
            "description_width": ""
          }
        },
        "ae2aeb8e4e4b4cf084b7e2de6552a0b8": {
          "model_module": "@jupyter-widgets/controls",
          "model_module_version": "1.5.0",
          "model_name": "FloatProgressModel",
          "state": {
            "_dom_classes": [],
            "_model_module": "@jupyter-widgets/controls",
            "_model_module_version": "1.5.0",
            "_model_name": "FloatProgressModel",
            "_view_count": null,
            "_view_module": "@jupyter-widgets/controls",
            "_view_module_version": "1.5.0",
            "_view_name": "ProgressView",
            "bar_style": "success",
            "description": "",
            "description_tooltip": null,
            "layout": "IPY_MODEL_95708c0fbfd84c1eb5d781198754d4d7",
            "max": 1000,
            "min": 0,
            "orientation": "horizontal",
            "style": "IPY_MODEL_3183565db05f46379b5892cc552f1eef",
            "value": 1000
          }
        },
        "afcca047970c44f1bb3ff3294870f251": {
          "model_module": "@jupyter-widgets/base",
          "model_module_version": "1.2.0",
          "model_name": "LayoutModel",
          "state": {
            "_model_module": "@jupyter-widgets/base",
            "_model_module_version": "1.2.0",
            "_model_name": "LayoutModel",
            "_view_count": null,
            "_view_module": "@jupyter-widgets/base",
            "_view_module_version": "1.2.0",
            "_view_name": "LayoutView",
            "align_content": null,
            "align_items": null,
            "align_self": null,
            "border": null,
            "bottom": null,
            "display": null,
            "flex": null,
            "flex_flow": null,
            "grid_area": null,
            "grid_auto_columns": null,
            "grid_auto_flow": null,
            "grid_auto_rows": null,
            "grid_column": null,
            "grid_gap": null,
            "grid_row": null,
            "grid_template_areas": null,
            "grid_template_columns": null,
            "grid_template_rows": null,
            "height": null,
            "justify_content": null,
            "justify_items": null,
            "left": null,
            "margin": null,
            "max_height": null,
            "max_width": null,
            "min_height": null,
            "min_width": null,
            "object_fit": null,
            "object_position": null,
            "order": null,
            "overflow": null,
            "overflow_x": null,
            "overflow_y": null,
            "padding": null,
            "right": null,
            "top": null,
            "visibility": null,
            "width": null
          }
        },
        "b2b66c71662b492f874e5195a054a315": {
          "model_module": "@jupyter-widgets/base",
          "model_module_version": "1.2.0",
          "model_name": "LayoutModel",
          "state": {
            "_model_module": "@jupyter-widgets/base",
            "_model_module_version": "1.2.0",
            "_model_name": "LayoutModel",
            "_view_count": null,
            "_view_module": "@jupyter-widgets/base",
            "_view_module_version": "1.2.0",
            "_view_name": "LayoutView",
            "align_content": null,
            "align_items": null,
            "align_self": null,
            "border": null,
            "bottom": null,
            "display": null,
            "flex": null,
            "flex_flow": null,
            "grid_area": null,
            "grid_auto_columns": null,
            "grid_auto_flow": null,
            "grid_auto_rows": null,
            "grid_column": null,
            "grid_gap": null,
            "grid_row": null,
            "grid_template_areas": null,
            "grid_template_columns": null,
            "grid_template_rows": null,
            "height": null,
            "justify_content": null,
            "justify_items": null,
            "left": null,
            "margin": null,
            "max_height": null,
            "max_width": null,
            "min_height": null,
            "min_width": null,
            "object_fit": null,
            "object_position": null,
            "order": null,
            "overflow": null,
            "overflow_x": null,
            "overflow_y": null,
            "padding": null,
            "right": null,
            "top": null,
            "visibility": null,
            "width": null
          }
        },
        "b325b15b38874911b6689e522bff5946": {
          "model_module": "@jupyter-widgets/base",
          "model_module_version": "1.2.0",
          "model_name": "LayoutModel",
          "state": {
            "_model_module": "@jupyter-widgets/base",
            "_model_module_version": "1.2.0",
            "_model_name": "LayoutModel",
            "_view_count": null,
            "_view_module": "@jupyter-widgets/base",
            "_view_module_version": "1.2.0",
            "_view_name": "LayoutView",
            "align_content": null,
            "align_items": null,
            "align_self": null,
            "border": null,
            "bottom": null,
            "display": null,
            "flex": null,
            "flex_flow": null,
            "grid_area": null,
            "grid_auto_columns": null,
            "grid_auto_flow": null,
            "grid_auto_rows": null,
            "grid_column": null,
            "grid_gap": null,
            "grid_row": null,
            "grid_template_areas": null,
            "grid_template_columns": null,
            "grid_template_rows": null,
            "height": null,
            "justify_content": null,
            "justify_items": null,
            "left": null,
            "margin": null,
            "max_height": null,
            "max_width": null,
            "min_height": null,
            "min_width": null,
            "object_fit": null,
            "object_position": null,
            "order": null,
            "overflow": null,
            "overflow_x": null,
            "overflow_y": null,
            "padding": null,
            "right": null,
            "top": null,
            "visibility": null,
            "width": null
          }
        },
        "b4fc14ab790c41dd8ebacb52e1de8909": {
          "model_module": "@jupyter-widgets/base",
          "model_module_version": "1.2.0",
          "model_name": "LayoutModel",
          "state": {
            "_model_module": "@jupyter-widgets/base",
            "_model_module_version": "1.2.0",
            "_model_name": "LayoutModel",
            "_view_count": null,
            "_view_module": "@jupyter-widgets/base",
            "_view_module_version": "1.2.0",
            "_view_name": "LayoutView",
            "align_content": null,
            "align_items": null,
            "align_self": null,
            "border": null,
            "bottom": null,
            "display": null,
            "flex": null,
            "flex_flow": null,
            "grid_area": null,
            "grid_auto_columns": null,
            "grid_auto_flow": null,
            "grid_auto_rows": null,
            "grid_column": null,
            "grid_gap": null,
            "grid_row": null,
            "grid_template_areas": null,
            "grid_template_columns": null,
            "grid_template_rows": null,
            "height": null,
            "justify_content": null,
            "justify_items": null,
            "left": null,
            "margin": null,
            "max_height": null,
            "max_width": null,
            "min_height": null,
            "min_width": null,
            "object_fit": null,
            "object_position": null,
            "order": null,
            "overflow": null,
            "overflow_x": null,
            "overflow_y": null,
            "padding": null,
            "right": null,
            "top": null,
            "visibility": null,
            "width": null
          }
        },
        "b88bf73c1df54f5c97e1fcff9ebbf83d": {
          "model_module": "@jupyter-widgets/base",
          "model_module_version": "1.2.0",
          "model_name": "LayoutModel",
          "state": {
            "_model_module": "@jupyter-widgets/base",
            "_model_module_version": "1.2.0",
            "_model_name": "LayoutModel",
            "_view_count": null,
            "_view_module": "@jupyter-widgets/base",
            "_view_module_version": "1.2.0",
            "_view_name": "LayoutView",
            "align_content": null,
            "align_items": null,
            "align_self": null,
            "border": null,
            "bottom": null,
            "display": null,
            "flex": null,
            "flex_flow": null,
            "grid_area": null,
            "grid_auto_columns": null,
            "grid_auto_flow": null,
            "grid_auto_rows": null,
            "grid_column": null,
            "grid_gap": null,
            "grid_row": null,
            "grid_template_areas": null,
            "grid_template_columns": null,
            "grid_template_rows": null,
            "height": null,
            "justify_content": null,
            "justify_items": null,
            "left": null,
            "margin": null,
            "max_height": null,
            "max_width": null,
            "min_height": null,
            "min_width": null,
            "object_fit": null,
            "object_position": null,
            "order": null,
            "overflow": null,
            "overflow_x": null,
            "overflow_y": null,
            "padding": null,
            "right": null,
            "top": null,
            "visibility": null,
            "width": null
          }
        },
        "b924ae08f3d14f9f9f8602d8c0850b1f": {
          "model_module": "@jupyter-widgets/base",
          "model_module_version": "1.2.0",
          "model_name": "LayoutModel",
          "state": {
            "_model_module": "@jupyter-widgets/base",
            "_model_module_version": "1.2.0",
            "_model_name": "LayoutModel",
            "_view_count": null,
            "_view_module": "@jupyter-widgets/base",
            "_view_module_version": "1.2.0",
            "_view_name": "LayoutView",
            "align_content": null,
            "align_items": null,
            "align_self": null,
            "border": null,
            "bottom": null,
            "display": null,
            "flex": null,
            "flex_flow": null,
            "grid_area": null,
            "grid_auto_columns": null,
            "grid_auto_flow": null,
            "grid_auto_rows": null,
            "grid_column": null,
            "grid_gap": null,
            "grid_row": null,
            "grid_template_areas": null,
            "grid_template_columns": null,
            "grid_template_rows": null,
            "height": null,
            "justify_content": null,
            "justify_items": null,
            "left": null,
            "margin": null,
            "max_height": null,
            "max_width": null,
            "min_height": null,
            "min_width": null,
            "object_fit": null,
            "object_position": null,
            "order": null,
            "overflow": null,
            "overflow_x": null,
            "overflow_y": null,
            "padding": null,
            "right": null,
            "top": null,
            "visibility": null,
            "width": null
          }
        },
        "b9439fa82e7c4735b6c09c743e3562ea": {
          "model_module": "@jupyter-widgets/controls",
          "model_module_version": "1.5.0",
          "model_name": "HBoxModel",
          "state": {
            "_dom_classes": [],
            "_model_module": "@jupyter-widgets/controls",
            "_model_module_version": "1.5.0",
            "_model_name": "HBoxModel",
            "_view_count": null,
            "_view_module": "@jupyter-widgets/controls",
            "_view_module_version": "1.5.0",
            "_view_name": "HBoxView",
            "box_style": "",
            "children": [
              "IPY_MODEL_c5306968c63f4f8eb68e3337399564c2",
              "IPY_MODEL_ecb6a7347ba340d2a4f12a03139b4ab3",
              "IPY_MODEL_6594edb376a743d5981b34f509a18405"
            ],
            "layout": "IPY_MODEL_92cc308b743f4ab1a9191586e56d8406"
          }
        },
        "ba6813fb6acb4daa9c478d1e58edbbc4": {
          "model_module": "@jupyter-widgets/controls",
          "model_module_version": "1.5.0",
          "model_name": "HTMLModel",
          "state": {
            "_dom_classes": [],
            "_model_module": "@jupyter-widgets/controls",
            "_model_module_version": "1.5.0",
            "_model_name": "HTMLModel",
            "_view_count": null,
            "_view_module": "@jupyter-widgets/controls",
            "_view_module_version": "1.5.0",
            "_view_name": "HTMLView",
            "description": "",
            "description_tooltip": null,
            "layout": "IPY_MODEL_a900f77748c843469a8f985d77fcb1c3",
            "placeholder": "​",
            "style": "IPY_MODEL_0cb3f55d93e74633b89c23b6f936ca76",
            "value": "Generating validation split: 100%"
          }
        },
        "bd9c98f80fdb4e11907f0ad0c1d0669b": {
          "model_module": "@jupyter-widgets/base",
          "model_module_version": "1.2.0",
          "model_name": "LayoutModel",
          "state": {
            "_model_module": "@jupyter-widgets/base",
            "_model_module_version": "1.2.0",
            "_model_name": "LayoutModel",
            "_view_count": null,
            "_view_module": "@jupyter-widgets/base",
            "_view_module_version": "1.2.0",
            "_view_name": "LayoutView",
            "align_content": null,
            "align_items": null,
            "align_self": null,
            "border": null,
            "bottom": null,
            "display": null,
            "flex": null,
            "flex_flow": null,
            "grid_area": null,
            "grid_auto_columns": null,
            "grid_auto_flow": null,
            "grid_auto_rows": null,
            "grid_column": null,
            "grid_gap": null,
            "grid_row": null,
            "grid_template_areas": null,
            "grid_template_columns": null,
            "grid_template_rows": null,
            "height": null,
            "justify_content": null,
            "justify_items": null,
            "left": null,
            "margin": null,
            "max_height": null,
            "max_width": null,
            "min_height": null,
            "min_width": null,
            "object_fit": null,
            "object_position": null,
            "order": null,
            "overflow": null,
            "overflow_x": null,
            "overflow_y": null,
            "padding": null,
            "right": null,
            "top": null,
            "visibility": null,
            "width": null
          }
        },
        "be2cca356c954456af7bb1dc74aad469": {
          "model_module": "@jupyter-widgets/base",
          "model_module_version": "1.2.0",
          "model_name": "LayoutModel",
          "state": {
            "_model_module": "@jupyter-widgets/base",
            "_model_module_version": "1.2.0",
            "_model_name": "LayoutModel",
            "_view_count": null,
            "_view_module": "@jupyter-widgets/base",
            "_view_module_version": "1.2.0",
            "_view_name": "LayoutView",
            "align_content": null,
            "align_items": null,
            "align_self": null,
            "border": null,
            "bottom": null,
            "display": null,
            "flex": null,
            "flex_flow": null,
            "grid_area": null,
            "grid_auto_columns": null,
            "grid_auto_flow": null,
            "grid_auto_rows": null,
            "grid_column": null,
            "grid_gap": null,
            "grid_row": null,
            "grid_template_areas": null,
            "grid_template_columns": null,
            "grid_template_rows": null,
            "height": null,
            "justify_content": null,
            "justify_items": null,
            "left": null,
            "margin": null,
            "max_height": null,
            "max_width": null,
            "min_height": null,
            "min_width": null,
            "object_fit": null,
            "object_position": null,
            "order": null,
            "overflow": null,
            "overflow_x": null,
            "overflow_y": null,
            "padding": null,
            "right": null,
            "top": null,
            "visibility": null,
            "width": null
          }
        },
        "be5a6f8480d04207b328fe1bb6f16995": {
          "model_module": "@jupyter-widgets/base",
          "model_module_version": "1.2.0",
          "model_name": "LayoutModel",
          "state": {
            "_model_module": "@jupyter-widgets/base",
            "_model_module_version": "1.2.0",
            "_model_name": "LayoutModel",
            "_view_count": null,
            "_view_module": "@jupyter-widgets/base",
            "_view_module_version": "1.2.0",
            "_view_name": "LayoutView",
            "align_content": null,
            "align_items": null,
            "align_self": null,
            "border": null,
            "bottom": null,
            "display": null,
            "flex": null,
            "flex_flow": null,
            "grid_area": null,
            "grid_auto_columns": null,
            "grid_auto_flow": null,
            "grid_auto_rows": null,
            "grid_column": null,
            "grid_gap": null,
            "grid_row": null,
            "grid_template_areas": null,
            "grid_template_columns": null,
            "grid_template_rows": null,
            "height": null,
            "justify_content": null,
            "justify_items": null,
            "left": null,
            "margin": null,
            "max_height": null,
            "max_width": null,
            "min_height": null,
            "min_width": null,
            "object_fit": null,
            "object_position": null,
            "order": null,
            "overflow": null,
            "overflow_x": null,
            "overflow_y": null,
            "padding": null,
            "right": null,
            "top": null,
            "visibility": null,
            "width": null
          }
        },
        "c2d8d583e16b4f8aaf9820f359c584ef": {
          "model_module": "@jupyter-widgets/base",
          "model_module_version": "1.2.0",
          "model_name": "LayoutModel",
          "state": {
            "_model_module": "@jupyter-widgets/base",
            "_model_module_version": "1.2.0",
            "_model_name": "LayoutModel",
            "_view_count": null,
            "_view_module": "@jupyter-widgets/base",
            "_view_module_version": "1.2.0",
            "_view_name": "LayoutView",
            "align_content": null,
            "align_items": null,
            "align_self": null,
            "border": null,
            "bottom": null,
            "display": null,
            "flex": null,
            "flex_flow": null,
            "grid_area": null,
            "grid_auto_columns": null,
            "grid_auto_flow": null,
            "grid_auto_rows": null,
            "grid_column": null,
            "grid_gap": null,
            "grid_row": null,
            "grid_template_areas": null,
            "grid_template_columns": null,
            "grid_template_rows": null,
            "height": null,
            "justify_content": null,
            "justify_items": null,
            "left": null,
            "margin": null,
            "max_height": null,
            "max_width": null,
            "min_height": null,
            "min_width": null,
            "object_fit": null,
            "object_position": null,
            "order": null,
            "overflow": null,
            "overflow_x": null,
            "overflow_y": null,
            "padding": null,
            "right": null,
            "top": null,
            "visibility": null,
            "width": null
          }
        },
        "c3f98a12d59348bcbd634e6f9cbed39e": {
          "model_module": "@jupyter-widgets/base",
          "model_module_version": "1.2.0",
          "model_name": "LayoutModel",
          "state": {
            "_model_module": "@jupyter-widgets/base",
            "_model_module_version": "1.2.0",
            "_model_name": "LayoutModel",
            "_view_count": null,
            "_view_module": "@jupyter-widgets/base",
            "_view_module_version": "1.2.0",
            "_view_name": "LayoutView",
            "align_content": null,
            "align_items": null,
            "align_self": null,
            "border": null,
            "bottom": null,
            "display": null,
            "flex": null,
            "flex_flow": null,
            "grid_area": null,
            "grid_auto_columns": null,
            "grid_auto_flow": null,
            "grid_auto_rows": null,
            "grid_column": null,
            "grid_gap": null,
            "grid_row": null,
            "grid_template_areas": null,
            "grid_template_columns": null,
            "grid_template_rows": null,
            "height": null,
            "justify_content": null,
            "justify_items": null,
            "left": null,
            "margin": null,
            "max_height": null,
            "max_width": null,
            "min_height": null,
            "min_width": null,
            "object_fit": null,
            "object_position": null,
            "order": null,
            "overflow": null,
            "overflow_x": null,
            "overflow_y": null,
            "padding": null,
            "right": null,
            "top": null,
            "visibility": null,
            "width": null
          }
        },
        "c49e7c1998dd4c39ab724e363e57182d": {
          "model_module": "@jupyter-widgets/base",
          "model_module_version": "1.2.0",
          "model_name": "LayoutModel",
          "state": {
            "_model_module": "@jupyter-widgets/base",
            "_model_module_version": "1.2.0",
            "_model_name": "LayoutModel",
            "_view_count": null,
            "_view_module": "@jupyter-widgets/base",
            "_view_module_version": "1.2.0",
            "_view_name": "LayoutView",
            "align_content": null,
            "align_items": null,
            "align_self": null,
            "border": null,
            "bottom": null,
            "display": null,
            "flex": null,
            "flex_flow": null,
            "grid_area": null,
            "grid_auto_columns": null,
            "grid_auto_flow": null,
            "grid_auto_rows": null,
            "grid_column": null,
            "grid_gap": null,
            "grid_row": null,
            "grid_template_areas": null,
            "grid_template_columns": null,
            "grid_template_rows": null,
            "height": null,
            "justify_content": null,
            "justify_items": null,
            "left": null,
            "margin": null,
            "max_height": null,
            "max_width": null,
            "min_height": null,
            "min_width": null,
            "object_fit": null,
            "object_position": null,
            "order": null,
            "overflow": null,
            "overflow_x": null,
            "overflow_y": null,
            "padding": null,
            "right": null,
            "top": null,
            "visibility": null,
            "width": null
          }
        },
        "c5306968c63f4f8eb68e3337399564c2": {
          "model_module": "@jupyter-widgets/controls",
          "model_module_version": "1.5.0",
          "model_name": "HTMLModel",
          "state": {
            "_dom_classes": [],
            "_model_module": "@jupyter-widgets/controls",
            "_model_module_version": "1.5.0",
            "_model_name": "HTMLModel",
            "_view_count": null,
            "_view_module": "@jupyter-widgets/controls",
            "_view_module_version": "1.5.0",
            "_view_name": "HTMLView",
            "description": "",
            "description_tooltip": null,
            "layout": "IPY_MODEL_b4fc14ab790c41dd8ebacb52e1de8909",
            "placeholder": "​",
            "style": "IPY_MODEL_eec9af163e334354a1223219d26060b6",
            "value": "100%"
          }
        },
        "c5c63e310f0f4f84867ada97dfd80456": {
          "model_module": "@jupyter-widgets/controls",
          "model_module_version": "1.5.0",
          "model_name": "HTMLModel",
          "state": {
            "_dom_classes": [],
            "_model_module": "@jupyter-widgets/controls",
            "_model_module_version": "1.5.0",
            "_model_name": "HTMLModel",
            "_view_count": null,
            "_view_module": "@jupyter-widgets/controls",
            "_view_module_version": "1.5.0",
            "_view_name": "HTMLView",
            "description": "",
            "description_tooltip": null,
            "layout": "IPY_MODEL_2e8d14cb4d414545985bfb64d26a9eba",
            "placeholder": "​",
            "style": "IPY_MODEL_7cdf7178668e4a3b8d6a749ef940c008",
            "value": "100%"
          }
        },
        "caeac1996d47437fb9239df5fcd10df1": {
          "model_module": "@jupyter-widgets/controls",
          "model_module_version": "1.5.0",
          "model_name": "FloatProgressModel",
          "state": {
            "_dom_classes": [],
            "_model_module": "@jupyter-widgets/controls",
            "_model_module_version": "1.5.0",
            "_model_name": "FloatProgressModel",
            "_view_count": null,
            "_view_module": "@jupyter-widgets/controls",
            "_view_module_version": "1.5.0",
            "_view_name": "ProgressView",
            "bar_style": "success",
            "description": "",
            "description_tooltip": null,
            "layout": "IPY_MODEL_4d8604b6be194adfa980e3be80c31ee3",
            "max": 9469,
            "min": 0,
            "orientation": "horizontal",
            "style": "IPY_MODEL_7e9ed109427149c8a33b84e3b36f2edf",
            "value": 9469
          }
        },
        "cbea5c38ff064f1e920203dd54c1d6a3": {
          "model_module": "@jupyter-widgets/controls",
          "model_module_version": "1.5.0",
          "model_name": "ProgressStyleModel",
          "state": {
            "_model_module": "@jupyter-widgets/controls",
            "_model_module_version": "1.5.0",
            "_model_name": "ProgressStyleModel",
            "_view_count": null,
            "_view_module": "@jupyter-widgets/base",
            "_view_module_version": "1.2.0",
            "_view_name": "StyleView",
            "bar_color": null,
            "description_width": ""
          }
        },
        "cc13c9418c0c422fb18182d861dd10ed": {
          "model_module": "@jupyter-widgets/controls",
          "model_module_version": "1.5.0",
          "model_name": "HBoxModel",
          "state": {
            "_dom_classes": [],
            "_model_module": "@jupyter-widgets/controls",
            "_model_module_version": "1.5.0",
            "_model_name": "HBoxModel",
            "_view_count": null,
            "_view_module": "@jupyter-widgets/controls",
            "_view_module_version": "1.5.0",
            "_view_name": "HBoxView",
            "box_style": "",
            "children": [
              "IPY_MODEL_2df670e8aa38417d8620b44fecc86e31",
              "IPY_MODEL_7fbf8ed432ab40539c4f78276b14105f",
              "IPY_MODEL_f65be074ec8d456188417541c97b6414"
            ],
            "layout": "IPY_MODEL_d44c80f248b944b2840cc1d1aa3fc4d0"
          }
        },
        "cc974e384805414e9556c6fc5841b8e1": {
          "model_module": "@jupyter-widgets/base",
          "model_module_version": "1.2.0",
          "model_name": "LayoutModel",
          "state": {
            "_model_module": "@jupyter-widgets/base",
            "_model_module_version": "1.2.0",
            "_model_name": "LayoutModel",
            "_view_count": null,
            "_view_module": "@jupyter-widgets/base",
            "_view_module_version": "1.2.0",
            "_view_name": "LayoutView",
            "align_content": null,
            "align_items": null,
            "align_self": null,
            "border": null,
            "bottom": null,
            "display": null,
            "flex": null,
            "flex_flow": null,
            "grid_area": null,
            "grid_auto_columns": null,
            "grid_auto_flow": null,
            "grid_auto_rows": null,
            "grid_column": null,
            "grid_gap": null,
            "grid_row": null,
            "grid_template_areas": null,
            "grid_template_columns": null,
            "grid_template_rows": null,
            "height": null,
            "justify_content": null,
            "justify_items": null,
            "left": null,
            "margin": null,
            "max_height": null,
            "max_width": null,
            "min_height": null,
            "min_width": null,
            "object_fit": null,
            "object_position": null,
            "order": null,
            "overflow": null,
            "overflow_x": null,
            "overflow_y": null,
            "padding": null,
            "right": null,
            "top": null,
            "visibility": null,
            "width": null
          }
        },
        "ccbbb83a10014f24bf7b3b82fdeb1b80": {
          "model_module": "@jupyter-widgets/controls",
          "model_module_version": "1.5.0",
          "model_name": "FloatProgressModel",
          "state": {
            "_dom_classes": [],
            "_model_module": "@jupyter-widgets/controls",
            "_model_module_version": "1.5.0",
            "_model_name": "FloatProgressModel",
            "_view_count": null,
            "_view_module": "@jupyter-widgets/controls",
            "_view_module_version": "1.5.0",
            "_view_name": "ProgressView",
            "bar_style": "success",
            "description": "",
            "description_tooltip": null,
            "layout": "IPY_MODEL_40a5b567d32f4c818b436d28e15f42ab",
            "max": 31006155,
            "min": 0,
            "orientation": "horizontal",
            "style": "IPY_MODEL_6a6f6141cbf847e4b7c5ab8613979049",
            "value": 31006155
          }
        },
        "cda2ed073232458f8fb31abb7587ad2f": {
          "model_module": "@jupyter-widgets/base",
          "model_module_version": "1.2.0",
          "model_name": "LayoutModel",
          "state": {
            "_model_module": "@jupyter-widgets/base",
            "_model_module_version": "1.2.0",
            "_model_name": "LayoutModel",
            "_view_count": null,
            "_view_module": "@jupyter-widgets/base",
            "_view_module_version": "1.2.0",
            "_view_name": "LayoutView",
            "align_content": null,
            "align_items": null,
            "align_self": null,
            "border": null,
            "bottom": null,
            "display": null,
            "flex": null,
            "flex_flow": null,
            "grid_area": null,
            "grid_auto_columns": null,
            "grid_auto_flow": null,
            "grid_auto_rows": null,
            "grid_column": null,
            "grid_gap": null,
            "grid_row": null,
            "grid_template_areas": null,
            "grid_template_columns": null,
            "grid_template_rows": null,
            "height": null,
            "justify_content": null,
            "justify_items": null,
            "left": null,
            "margin": null,
            "max_height": null,
            "max_width": null,
            "min_height": null,
            "min_width": null,
            "object_fit": null,
            "object_position": null,
            "order": null,
            "overflow": null,
            "overflow_x": null,
            "overflow_y": null,
            "padding": null,
            "right": null,
            "top": null,
            "visibility": null,
            "width": null
          }
        },
        "d44c80f248b944b2840cc1d1aa3fc4d0": {
          "model_module": "@jupyter-widgets/base",
          "model_module_version": "1.2.0",
          "model_name": "LayoutModel",
          "state": {
            "_model_module": "@jupyter-widgets/base",
            "_model_module_version": "1.2.0",
            "_model_name": "LayoutModel",
            "_view_count": null,
            "_view_module": "@jupyter-widgets/base",
            "_view_module_version": "1.2.0",
            "_view_name": "LayoutView",
            "align_content": null,
            "align_items": null,
            "align_self": null,
            "border": null,
            "bottom": null,
            "display": null,
            "flex": null,
            "flex_flow": null,
            "grid_area": null,
            "grid_auto_columns": null,
            "grid_auto_flow": null,
            "grid_auto_rows": null,
            "grid_column": null,
            "grid_gap": null,
            "grid_row": null,
            "grid_template_areas": null,
            "grid_template_columns": null,
            "grid_template_rows": null,
            "height": null,
            "justify_content": null,
            "justify_items": null,
            "left": null,
            "margin": null,
            "max_height": null,
            "max_width": null,
            "min_height": null,
            "min_width": null,
            "object_fit": null,
            "object_position": null,
            "order": null,
            "overflow": null,
            "overflow_x": null,
            "overflow_y": null,
            "padding": null,
            "right": null,
            "top": null,
            "visibility": null,
            "width": null
          }
        },
        "d53cb7601dac410ba7510bdc08a9d8c9": {
          "model_module": "@jupyter-widgets/controls",
          "model_module_version": "1.5.0",
          "model_name": "DescriptionStyleModel",
          "state": {
            "_model_module": "@jupyter-widgets/controls",
            "_model_module_version": "1.5.0",
            "_model_name": "DescriptionStyleModel",
            "_view_count": null,
            "_view_module": "@jupyter-widgets/base",
            "_view_module_version": "1.2.0",
            "_view_name": "StyleView",
            "description_width": ""
          }
        },
        "da60e49a67b14ebeb5c577cf35ace928": {
          "model_module": "@jupyter-widgets/controls",
          "model_module_version": "1.5.0",
          "model_name": "HTMLModel",
          "state": {
            "_dom_classes": [],
            "_model_module": "@jupyter-widgets/controls",
            "_model_module_version": "1.5.0",
            "_model_name": "HTMLModel",
            "_view_count": null,
            "_view_module": "@jupyter-widgets/controls",
            "_view_module_version": "1.5.0",
            "_view_name": "HTMLView",
            "description": "",
            "description_tooltip": null,
            "layout": "IPY_MODEL_efbb74a1ed654e78b63dc15d9d37c65c",
            "placeholder": "​",
            "style": "IPY_MODEL_d53cb7601dac410ba7510bdc08a9d8c9",
            "value": " 31.0M/31.0M [00:02&lt;00:00, 13.4MB/s]"
          }
        },
        "df46faada35541d391eb3d55f4a88423": {
          "model_module": "@jupyter-widgets/base",
          "model_module_version": "1.2.0",
          "model_name": "LayoutModel",
          "state": {
            "_model_module": "@jupyter-widgets/base",
            "_model_module_version": "1.2.0",
            "_model_name": "LayoutModel",
            "_view_count": null,
            "_view_module": "@jupyter-widgets/base",
            "_view_module_version": "1.2.0",
            "_view_name": "LayoutView",
            "align_content": null,
            "align_items": null,
            "align_self": null,
            "border": null,
            "bottom": null,
            "display": null,
            "flex": null,
            "flex_flow": null,
            "grid_area": null,
            "grid_auto_columns": null,
            "grid_auto_flow": null,
            "grid_auto_rows": null,
            "grid_column": null,
            "grid_gap": null,
            "grid_row": null,
            "grid_template_areas": null,
            "grid_template_columns": null,
            "grid_template_rows": null,
            "height": null,
            "justify_content": null,
            "justify_items": null,
            "left": null,
            "margin": null,
            "max_height": null,
            "max_width": null,
            "min_height": null,
            "min_width": null,
            "object_fit": null,
            "object_position": null,
            "order": null,
            "overflow": null,
            "overflow_x": null,
            "overflow_y": null,
            "padding": null,
            "right": null,
            "top": null,
            "visibility": null,
            "width": null
          }
        },
        "e7f788a0a2214ffd9cb2df833d825039": {
          "model_module": "@jupyter-widgets/controls",
          "model_module_version": "1.5.0",
          "model_name": "FloatProgressModel",
          "state": {
            "_dom_classes": [],
            "_model_module": "@jupyter-widgets/controls",
            "_model_module_version": "1.5.0",
            "_model_name": "FloatProgressModel",
            "_view_count": null,
            "_view_module": "@jupyter-widgets/controls",
            "_view_module_version": "1.5.0",
            "_view_name": "ProgressView",
            "bar_style": "success",
            "description": "",
            "description_tooltip": null,
            "layout": "IPY_MODEL_4c8b4ef1c8544689aa89ad0ecac9159f",
            "max": 9466,
            "min": 0,
            "orientation": "horizontal",
            "style": "IPY_MODEL_ea2103fa695d4f0c880955e81ec8e4ff",
            "value": 9466
          }
        },
        "e8be163b36ff41939364749f3f339b14": {
          "model_module": "@jupyter-widgets/controls",
          "model_module_version": "1.5.0",
          "model_name": "DescriptionStyleModel",
          "state": {
            "_model_module": "@jupyter-widgets/controls",
            "_model_module_version": "1.5.0",
            "_model_name": "DescriptionStyleModel",
            "_view_count": null,
            "_view_module": "@jupyter-widgets/base",
            "_view_module_version": "1.2.0",
            "_view_name": "StyleView",
            "description_width": ""
          }
        },
        "ea2103fa695d4f0c880955e81ec8e4ff": {
          "model_module": "@jupyter-widgets/controls",
          "model_module_version": "1.5.0",
          "model_name": "ProgressStyleModel",
          "state": {
            "_model_module": "@jupyter-widgets/controls",
            "_model_module_version": "1.5.0",
            "_model_name": "ProgressStyleModel",
            "_view_count": null,
            "_view_module": "@jupyter-widgets/base",
            "_view_module_version": "1.2.0",
            "_view_name": "StyleView",
            "bar_color": null,
            "description_width": ""
          }
        },
        "eb1f003e6f7e47cabad5d874b2b60eff": {
          "model_module": "@jupyter-widgets/controls",
          "model_module_version": "1.5.0",
          "model_name": "HTMLModel",
          "state": {
            "_dom_classes": [],
            "_model_module": "@jupyter-widgets/controls",
            "_model_module_version": "1.5.0",
            "_model_name": "HTMLModel",
            "_view_count": null,
            "_view_module": "@jupyter-widgets/controls",
            "_view_module_version": "1.5.0",
            "_view_name": "HTMLView",
            "description": "",
            "description_tooltip": null,
            "layout": "IPY_MODEL_89915ef2143d448e922cc59a81e4c1e9",
            "placeholder": "​",
            "style": "IPY_MODEL_e8be163b36ff41939364749f3f339b14",
            "value": " 3925/3925 [00:00&lt;00:00, 15682.83 examples/s]"
          }
        },
        "eb72b37668094ca9b68311e8a035649c": {
          "model_module": "@jupyter-widgets/controls",
          "model_module_version": "1.5.0",
          "model_name": "FloatProgressModel",
          "state": {
            "_dom_classes": [],
            "_model_module": "@jupyter-widgets/controls",
            "_model_module_version": "1.5.0",
            "_model_name": "FloatProgressModel",
            "_view_count": null,
            "_view_module": "@jupyter-widgets/controls",
            "_view_module_version": "1.5.0",
            "_view_name": "ProgressView",
            "bar_style": "success",
            "description": "",
            "description_tooltip": null,
            "layout": "IPY_MODEL_afcca047970c44f1bb3ff3294870f251",
            "max": 74784096,
            "min": 0,
            "orientation": "horizontal",
            "style": "IPY_MODEL_85d8f063afe349e0aded085fbc3608ac",
            "value": 74784096
          }
        },
        "ecb6a7347ba340d2a4f12a03139b4ab3": {
          "model_module": "@jupyter-widgets/controls",
          "model_module_version": "1.5.0",
          "model_name": "FloatProgressModel",
          "state": {
            "_dom_classes": [],
            "_model_module": "@jupyter-widgets/controls",
            "_model_module_version": "1.5.0",
            "_model_name": "FloatProgressModel",
            "_view_count": null,
            "_view_module": "@jupyter-widgets/controls",
            "_view_module_version": "1.5.0",
            "_view_name": "ProgressView",
            "bar_style": "success",
            "description": "",
            "description_tooltip": null,
            "layout": "IPY_MODEL_83753d0c5d26408aac22bc373cd5b600",
            "max": 1000,
            "min": 0,
            "orientation": "horizontal",
            "style": "IPY_MODEL_459a80e2dcc74fc587808a1eb711ecee",
            "value": 1000
          }
        },
        "ed0c37b311194f8aab1c191f819b5bc8": {
          "model_module": "@jupyter-widgets/controls",
          "model_module_version": "1.5.0",
          "model_name": "ProgressStyleModel",
          "state": {
            "_model_module": "@jupyter-widgets/controls",
            "_model_module_version": "1.5.0",
            "_model_name": "ProgressStyleModel",
            "_view_count": null,
            "_view_module": "@jupyter-widgets/base",
            "_view_module_version": "1.2.0",
            "_view_name": "StyleView",
            "bar_color": null,
            "description_width": ""
          }
        },
        "ee8137edeb2a43f2835c7414400f22c9": {
          "model_module": "@jupyter-widgets/controls",
          "model_module_version": "1.5.0",
          "model_name": "HBoxModel",
          "state": {
            "_dom_classes": [],
            "_model_module": "@jupyter-widgets/controls",
            "_model_module_version": "1.5.0",
            "_model_name": "HBoxModel",
            "_view_count": null,
            "_view_module": "@jupyter-widgets/controls",
            "_view_module_version": "1.5.0",
            "_view_name": "HBoxView",
            "box_style": "",
            "children": [
              "IPY_MODEL_36d186c5735947f7a1f7b441eaf83013",
              "IPY_MODEL_23f914472afc4524b65f564f82252953",
              "IPY_MODEL_1ee7e55328b944e4954424c94f2724b9"
            ],
            "layout": "IPY_MODEL_3c7ab31e455c4bbe80413377f3749e2f"
          }
        },
        "eec9af163e334354a1223219d26060b6": {
          "model_module": "@jupyter-widgets/controls",
          "model_module_version": "1.5.0",
          "model_name": "DescriptionStyleModel",
          "state": {
            "_model_module": "@jupyter-widgets/controls",
            "_model_module_version": "1.5.0",
            "_model_name": "DescriptionStyleModel",
            "_view_count": null,
            "_view_module": "@jupyter-widgets/base",
            "_view_module_version": "1.2.0",
            "_view_name": "StyleView",
            "description_width": ""
          }
        },
        "ef8bb645ae574485a83a8a84cdc61fe0": {
          "model_module": "@jupyter-widgets/controls",
          "model_module_version": "1.5.0",
          "model_name": "HBoxModel",
          "state": {
            "_dom_classes": [],
            "_model_module": "@jupyter-widgets/controls",
            "_model_module_version": "1.5.0",
            "_model_name": "HBoxModel",
            "_view_count": null,
            "_view_module": "@jupyter-widgets/controls",
            "_view_module_version": "1.5.0",
            "_view_name": "HBoxView",
            "box_style": "",
            "children": [
              "IPY_MODEL_3189626134844a9cbf7272600e1e7678",
              "IPY_MODEL_04abc2beb6244a74a521c002dd7e6a86",
              "IPY_MODEL_261fcc6c446b4eb9ba941ae3c5e1cbe8"
            ],
            "layout": "IPY_MODEL_b924ae08f3d14f9f9f8602d8c0850b1f"
          }
        },
        "efbb74a1ed654e78b63dc15d9d37c65c": {
          "model_module": "@jupyter-widgets/base",
          "model_module_version": "1.2.0",
          "model_name": "LayoutModel",
          "state": {
            "_model_module": "@jupyter-widgets/base",
            "_model_module_version": "1.2.0",
            "_model_name": "LayoutModel",
            "_view_count": null,
            "_view_module": "@jupyter-widgets/base",
            "_view_module_version": "1.2.0",
            "_view_name": "LayoutView",
            "align_content": null,
            "align_items": null,
            "align_self": null,
            "border": null,
            "bottom": null,
            "display": null,
            "flex": null,
            "flex_flow": null,
            "grid_area": null,
            "grid_auto_columns": null,
            "grid_auto_flow": null,
            "grid_auto_rows": null,
            "grid_column": null,
            "grid_gap": null,
            "grid_row": null,
            "grid_template_areas": null,
            "grid_template_columns": null,
            "grid_template_rows": null,
            "height": null,
            "justify_content": null,
            "justify_items": null,
            "left": null,
            "margin": null,
            "max_height": null,
            "max_width": null,
            "min_height": null,
            "min_width": null,
            "object_fit": null,
            "object_position": null,
            "order": null,
            "overflow": null,
            "overflow_x": null,
            "overflow_y": null,
            "padding": null,
            "right": null,
            "top": null,
            "visibility": null,
            "width": null
          }
        },
        "f047e257fba04e01b794f09b647bd0ff": {
          "model_module": "@jupyter-widgets/controls",
          "model_module_version": "1.5.0",
          "model_name": "HTMLModel",
          "state": {
            "_dom_classes": [],
            "_model_module": "@jupyter-widgets/controls",
            "_model_module_version": "1.5.0",
            "_model_name": "HTMLModel",
            "_view_count": null,
            "_view_module": "@jupyter-widgets/controls",
            "_view_module_version": "1.5.0",
            "_view_name": "HTMLView",
            "description": "",
            "description_tooltip": null,
            "layout": "IPY_MODEL_782415e5ca664f879d9ad31a14eef364",
            "placeholder": "​",
            "style": "IPY_MODEL_53e5a0cd427245ed881a541d47534897",
            "value": "100%"
          }
        },
        "f208b555a0484a3f93faf065da5c3e41": {
          "model_module": "@jupyter-widgets/controls",
          "model_module_version": "1.5.0",
          "model_name": "ProgressStyleModel",
          "state": {
            "_model_module": "@jupyter-widgets/controls",
            "_model_module_version": "1.5.0",
            "_model_name": "ProgressStyleModel",
            "_view_count": null,
            "_view_module": "@jupyter-widgets/base",
            "_view_module_version": "1.2.0",
            "_view_name": "StyleView",
            "bar_color": null,
            "description_width": ""
          }
        },
        "f65be074ec8d456188417541c97b6414": {
          "model_module": "@jupyter-widgets/controls",
          "model_module_version": "1.5.0",
          "model_name": "HTMLModel",
          "state": {
            "_dom_classes": [],
            "_model_module": "@jupyter-widgets/controls",
            "_model_module_version": "1.5.0",
            "_model_name": "HTMLModel",
            "_view_count": null,
            "_view_module": "@jupyter-widgets/controls",
            "_view_module_version": "1.5.0",
            "_view_name": "HTMLView",
            "description": "",
            "description_tooltip": null,
            "layout": "IPY_MODEL_b325b15b38874911b6689e522bff5946",
            "placeholder": "​",
            "style": "IPY_MODEL_90725cfd4f7d474f9c1f332a4ec5a543",
            "value": " 9469/9469 [00:00&lt;00:00, 10841.78it/s]"
          }
        }
      }
    }
  },
  "nbformat": 4,
  "nbformat_minor": 0
}
